{
 "cells": [
  {
   "cell_type": "code",
   "execution_count": 15,
   "id": "01beb0b4-750c-44ea-993e-0fa90c2303fb",
   "metadata": {},
   "outputs": [],
   "source": [
    "%matplotlib notebook\n",
    "%matplotlib inline\n",
    "import numpy as np\n",
    "import matplotlib.pyplot as plt\n",
    "import gymnasium as gym\n",
    "import time\n"
   ]
  },
  {
   "cell_type": "code",
   "execution_count": 16,
   "id": "3e177e92-efe9-45dc-b1ea-54d60383c1d0",
   "metadata": {},
   "outputs": [
    {
     "name": "stderr",
     "output_type": "stream",
     "text": [
      "/Users/tylergasperlin/opt/anaconda3/lib/python3.9/site-packages/gymnasium/envs/classic_control/cartpole.py:177: UserWarning: \u001b[33mWARN: You are calling 'step()' even though this environment has already returned terminated = True. You should always call 'reset()' once you receive 'terminated = True' -- any further steps are undefined behavior.\u001b[0m\n",
      "  logger.warn(\n"
     ]
    }
   ],
   "source": [
    "env = gym.make(\"CartPole-v1\", render_mode=\"rgb_array\")\n",
    "env.reset()\n",
    "\n",
    "for step in range(200):\n",
    "    env.render()\n",
    "    action = env.action_space.sample() #0 or 1\n",
    "    observation, reward, terminated, truncated, info = env.step(action)\n",
    "    time.sleep(0.01)\n",
    "    \n",
    "env.close()"
   ]
  },
  {
   "cell_type": "code",
   "execution_count": 17,
   "id": "9794a078-04e7-4cad-8de0-bc8c3d5cb84b",
   "metadata": {},
   "outputs": [
    {
     "data": {
      "text/plain": [
       "array([-4.1688147, -1.0792176, 21.521265 ,  9.491238 ], dtype=float32)"
      ]
     },
     "execution_count": 17,
     "metadata": {},
     "output_type": "execute_result"
    }
   ],
   "source": [
    "observation\n",
    "# cartposition, cart velocity, angle, angle velocity"
   ]
  },
  {
   "cell_type": "code",
   "execution_count": 18,
   "id": "77b72cb3-2e5f-4d4a-86a7-096e05c9b2c5",
   "metadata": {},
   "outputs": [],
   "source": [
    "def create_bins(num_bins_per_obs=10):\n",
    "    bins_cart_position = np.linspace(-4.8,4.8,num_bins_per_obs)\n",
    "    bins_cart_velocity = np.linspace(-5,5, num_bins_per_obs)\n",
    "    bins_pole_angle = np.linspace(-0.418,0.418,num_bins_per_obs)\n",
    "    bins_pole_angular_velocity = np.linspace(-5,5, num_bins_per_obs)\n",
    "    bins = np.array([bins_cart_position,\n",
    "                     bins_cart_velocity,\n",
    "                     bins_cart_velocity, \n",
    "                     bins_pole_angular_velocity])\n",
    "    return bins"
   ]
  },
  {
   "cell_type": "code",
   "execution_count": 19,
   "id": "30332aba-b73a-475a-a141-71abec84bb59",
   "metadata": {},
   "outputs": [],
   "source": [
    "NUM_BINS = 10\n",
    "BINS = create_bins(NUM_BINS)"
   ]
  },
  {
   "cell_type": "code",
   "execution_count": 20,
   "id": "1c56f508-4508-41a5-9b80-b185f713e49e",
   "metadata": {},
   "outputs": [
    {
     "data": {
      "text/plain": [
       "5"
      ]
     },
     "execution_count": 20,
     "metadata": {},
     "output_type": "execute_result"
    }
   ],
   "source": [
    "demo_bin = [0,2,4,6,8,10]\n",
    "demo_data = 9\n",
    "np.digitize(demo_data,demo_bin)"
   ]
  },
  {
   "cell_type": "code",
   "execution_count": 21,
   "id": "6104ff37-b18b-401b-8b5c-e6ab528fd9c0",
   "metadata": {},
   "outputs": [],
   "source": [
    "def discretize_observation(observations,bins):\n",
    "\n",
    "    binned_observations = []\n",
    "\n",
    "    for i,observation in enumerate(observations):\n",
    "        discretize_observation = np.digitize(observation,bins[i])\n",
    "        binned_observations.append(discretize_observation)\n",
    "    \n",
    "    return tuple(binned_observations)\n"
   ]
  },
  {
   "cell_type": "code",
   "execution_count": 22,
   "id": "5f8a4092-70e7-42df-bba3-50a21b206d91",
   "metadata": {},
   "outputs": [],
   "source": [
    "observations = env.reset()[0]"
   ]
  },
  {
   "cell_type": "code",
   "execution_count": 23,
   "id": "8d1434af-8c5f-4d52-a99d-399f8d8630ef",
   "metadata": {},
   "outputs": [],
   "source": [
    "mapped_observation = discretize_observation(observations, BINS )"
   ]
  },
  {
   "cell_type": "code",
   "execution_count": 24,
   "id": "b8d11ebc-4154-413a-9929-7b2a7daa4771",
   "metadata": {},
   "outputs": [
    {
     "data": {
      "text/plain": [
       "(5, 5, 5, 5)"
      ]
     },
     "execution_count": 24,
     "metadata": {},
     "output_type": "execute_result"
    }
   ],
   "source": [
    "mapped_observation"
   ]
  },
  {
   "cell_type": "code",
   "execution_count": 25,
   "id": "a0c990b5-c7be-41e1-b21f-c3b4415566ee",
   "metadata": {},
   "outputs": [],
   "source": [
    "q_table_shape = (NUM_BINS, NUM_BINS,NUM_BINS,NUM_BINS,env.action_space.n)"
   ]
  },
  {
   "cell_type": "code",
   "execution_count": null,
   "id": "cb4ff36b-556a-4139-97ca-32dc923336ef",
   "metadata": {},
   "outputs": [],
   "source": []
  }
 ],
 "metadata": {
  "kernelspec": {
   "display_name": "Python 3 (ipykernel)",
   "language": "python",
   "name": "python3"
  },
  "language_info": {
   "codemirror_mode": {
    "name": "ipython",
    "version": 3
   },
   "file_extension": ".py",
   "mimetype": "text/x-python",
   "name": "python",
   "nbconvert_exporter": "python",
   "pygments_lexer": "ipython3",
   "version": "3.9.13"
  }
 },
 "nbformat": 4,
 "nbformat_minor": 5
}
