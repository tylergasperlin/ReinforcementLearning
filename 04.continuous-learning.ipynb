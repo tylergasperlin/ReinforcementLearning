{
 "cells": [
  {
   "cell_type": "code",
   "execution_count": 26,
   "id": "01beb0b4-750c-44ea-993e-0fa90c2303fb",
   "metadata": {},
   "outputs": [],
   "source": [
    "%matplotlib notebook\n",
    "%matplotlib inline\n",
    "import numpy as np\n",
    "import matplotlib.pyplot as plt\n",
    "import gymnasium as gym\n",
    "import time\n"
   ]
  },
  {
   "cell_type": "code",
   "execution_count": 27,
   "id": "3e177e92-efe9-45dc-b1ea-54d60383c1d0",
   "metadata": {},
   "outputs": [],
   "source": [
    "env = gym.make(\"CartPole-v1\", render_mode=\"rgb_array\")\n",
    "env.reset()\n",
    "\n",
    "for step in range(200):\n",
    "    env.render()\n",
    "    action = env.action_space.sample() #0 or 1\n",
    "    observation, reward, terminated, truncated, info = env.step(action)\n",
    "    time.sleep(0.01)\n",
    "    \n",
    "env.close()"
   ]
  },
  {
   "cell_type": "code",
   "execution_count": 28,
   "id": "9794a078-04e7-4cad-8de0-bc8c3d5cb84b",
   "metadata": {},
   "outputs": [
    {
     "data": {
      "text/plain": [
       "array([ 2.2019768 ,  0.52264607, 19.488718  ,  6.463723  ], dtype=float32)"
      ]
     },
     "execution_count": 28,
     "metadata": {},
     "output_type": "execute_result"
    }
   ],
   "source": [
    "observation\n",
    "# cartposition, cart velocity, angle, angle velocity"
   ]
  },
  {
   "cell_type": "code",
   "execution_count": 29,
   "id": "77b72cb3-2e5f-4d4a-86a7-096e05c9b2c5",
   "metadata": {},
   "outputs": [],
   "source": [
    "def create_bins(num_bins_per_obs=10):\n",
    "    bins_cart_position = np.linspace(-4.8,4.8,num_bins_per_obs)\n",
    "    bins_cart_velocity = np.linspace(-5,5, num_bins_per_obs)\n",
    "    bins_pole_angle = np.linspace(-0.418,0.418,num_bins_per_obs)\n",
    "    bins_pole_angular_velocity = np.linspace(-5,5, num_bins_per_obs)\n",
    "    bins = np.array([bins_cart_position,\n",
    "                     bins_cart_velocity,\n",
    "                     bins_cart_velocity, \n",
    "                     bins_pole_angular_velocity])\n",
    "    return bins"
   ]
  },
  {
   "cell_type": "code",
   "execution_count": 30,
   "id": "30332aba-b73a-475a-a141-71abec84bb59",
   "metadata": {},
   "outputs": [],
   "source": [
    "NUM_BINS = 10\n",
    "BINS = create_bins(NUM_BINS)"
   ]
  },
  {
   "cell_type": "code",
   "execution_count": 31,
   "id": "1c56f508-4508-41a5-9b80-b185f713e49e",
   "metadata": {},
   "outputs": [
    {
     "data": {
      "text/plain": [
       "5"
      ]
     },
     "execution_count": 31,
     "metadata": {},
     "output_type": "execute_result"
    }
   ],
   "source": [
    "demo_bin = [0,2,4,6,8,10]\n",
    "demo_data = 9\n",
    "np.digitize(demo_data,demo_bin)"
   ]
  },
  {
   "cell_type": "code",
   "execution_count": 32,
   "id": "6104ff37-b18b-401b-8b5c-e6ab528fd9c0",
   "metadata": {},
   "outputs": [],
   "source": [
    "def discretize_observation(observations,bins):\n",
    "\n",
    "    binned_observations = []\n",
    "\n",
    "    for i,observation in enumerate(observations):\n",
    "        discretize_observation = np.digitize(observation,bins[i])\n",
    "        binned_observations.append(discretize_observation)\n",
    "    \n",
    "    return tuple(binned_observations)\n"
   ]
  },
  {
   "cell_type": "code",
   "execution_count": 33,
   "id": "5f8a4092-70e7-42df-bba3-50a21b206d91",
   "metadata": {},
   "outputs": [],
   "source": [
    "observations = env.reset()[0]"
   ]
  },
  {
   "cell_type": "code",
   "execution_count": 34,
   "id": "8d1434af-8c5f-4d52-a99d-399f8d8630ef",
   "metadata": {},
   "outputs": [],
   "source": [
    "mapped_observation = discretize_observation(observations, BINS )"
   ]
  },
  {
   "cell_type": "code",
   "execution_count": 35,
   "id": "b8d11ebc-4154-413a-9929-7b2a7daa4771",
   "metadata": {},
   "outputs": [
    {
     "data": {
      "text/plain": [
       "(5, 5, 5, 5)"
      ]
     },
     "execution_count": 35,
     "metadata": {},
     "output_type": "execute_result"
    }
   ],
   "source": [
    "mapped_observation"
   ]
  },
  {
   "cell_type": "code",
   "execution_count": 36,
   "id": "a0c990b5-c7be-41e1-b21f-c3b4415566ee",
   "metadata": {},
   "outputs": [],
   "source": [
    "q_table_shape = (NUM_BINS, NUM_BINS,NUM_BINS,NUM_BINS,env.action_space.n)"
   ]
  },
  {
   "cell_type": "code",
   "execution_count": 37,
   "id": "cb4ff36b-556a-4139-97ca-32dc923336ef",
   "metadata": {},
   "outputs": [],
   "source": [
    "q_table = np.zeros(q_table_shape)"
   ]
  },
  {
   "cell_type": "code",
   "execution_count": 38,
   "id": "65f9d0e2-6c89-4172-917e-2f73dd9ea945",
   "metadata": {},
   "outputs": [
    {
     "data": {
      "text/plain": [
       "(10, 10, 10, 10, 2)"
      ]
     },
     "execution_count": 38,
     "metadata": {},
     "output_type": "execute_result"
    }
   ],
   "source": [
    "#q_table\n",
    "q_table.shape # a 4 dimensional table"
   ]
  },
  {
   "cell_type": "code",
   "execution_count": 39,
   "id": "40c20bb1-5a96-4305-8f89-beb9bf56fb2a",
   "metadata": {},
   "outputs": [],
   "source": [
    "def epsilon_greedy_action_selection(epsilon, q_table,discrete_state):\n",
    "    \n",
    "    random_number = np.random.random()\n",
    "    \n",
    "    #exploitation - choose thea action that maximizes q\n",
    "    if random_number > epsilon:\n",
    "        state_row = q_table[discrete_state,:] # return a row from q\n",
    "        action = np.argmax(state_row) #actions are 0,1,2,3\n",
    "    # exploration - choose a random action \n",
    "    else:\n",
    "        action = env.action_space.sample()\n",
    "        \n",
    "    return action"
   ]
  },
  {
   "cell_type": "code",
   "execution_count": 40,
   "id": "e7c07010-d5e6-4d9a-87d4-f8ad74ca3e60",
   "metadata": {},
   "outputs": [],
   "source": [
    "def compute_next_q_value(old_q_value, reward, next_optimal_q_value, ALPHA, GAMMA):\n",
    "    return old_q_value +  ALPHA * (reward + GAMMA * next_optimal_q_value - old_q_value)\n"
   ]
  },
  {
   "cell_type": "code",
   "execution_count": 41,
   "id": "83565cc1-f29d-47a8-a587-0cc9582eff08",
   "metadata": {},
   "outputs": [],
   "source": [
    "EPOCHS = 20000\n",
    "ALPHA = 0.8\n",
    "GAMMA = 0.9"
   ]
  },
  {
   "cell_type": "code",
   "execution_count": 42,
   "id": "48816da4-9db8-47f1-8c64-dbf26ea72bcf",
   "metadata": {},
   "outputs": [],
   "source": [
    "epsilon = 1.0\n",
    "BURN_IN = 1\n",
    "EPSILON_END= 10000\n",
    "EPSILON_REDUCE = 0.0001"
   ]
  },
  {
   "cell_type": "code",
   "execution_count": 43,
   "id": "6a79e0c3-6e39-43fa-bf8f-b15804b086de",
   "metadata": {},
   "outputs": [],
   "source": [
    "def reduce_epsilon(epsilon,epoch):\n",
    "    if BURN_IN <= epoch <= EPSILON_END:\n",
    "        epsilon -= EPSILON_REDUCE\n",
    "    return epsilon"
   ]
  },
  {
   "cell_type": "code",
   "execution_count": 44,
   "id": "27760702-f1aa-48bf-a4ce-7b59175cc01e",
   "metadata": {},
   "outputs": [],
   "source": [
    "def fail(done,points,reward):\n",
    "    if done and points < 150:\n",
    "        reward = -200\n",
    "        \n",
    "    ## angular velocity +/- ##\n",
    "    return reward "
   ]
  },
  {
   "cell_type": "code",
   "execution_count": 47,
   "id": "a9ff49a9-8b3d-49f8-9ea5-f0d22554ab2b",
   "metadata": {},
   "outputs": [
    {
     "ename": "AssertionError",
     "evalue": "1108 (<class 'numpy.int64'>) invalid",
     "output_type": "error",
     "traceback": [
      "\u001b[0;31m---------------------------------------------------------------------------\u001b[0m",
      "\u001b[0;31mAssertionError\u001b[0m                            Traceback (most recent call last)",
      "\u001b[0;32m/var/folders/4p/q2w97g_n3xv8t1g03z0l35sw0000gn/T/ipykernel_63161/770246660.py\u001b[0m in \u001b[0;36m<module>\u001b[0;34m\u001b[0m\n\u001b[1;32m     24\u001b[0m     \u001b[0;32mwhile\u001b[0m \u001b[0;32mnot\u001b[0m \u001b[0mdone\u001b[0m\u001b[0;34m:\u001b[0m\u001b[0;34m\u001b[0m\u001b[0;34m\u001b[0m\u001b[0m\n\u001b[1;32m     25\u001b[0m         \u001b[0maction\u001b[0m \u001b[0;34m=\u001b[0m \u001b[0mepsilon_greedy_action_selection\u001b[0m\u001b[0;34m(\u001b[0m\u001b[0mepsilon\u001b[0m\u001b[0;34m,\u001b[0m\u001b[0mq_table\u001b[0m\u001b[0;34m,\u001b[0m\u001b[0mdiscretized_state\u001b[0m\u001b[0;34m)\u001b[0m\u001b[0;34m\u001b[0m\u001b[0;34m\u001b[0m\u001b[0m\n\u001b[0;32m---> 26\u001b[0;31m         \u001b[0mnext_state\u001b[0m\u001b[0;34m,\u001b[0m\u001b[0mreward\u001b[0m\u001b[0;34m,\u001b[0m\u001b[0mdone\u001b[0m\u001b[0;34m,\u001b[0m\u001b[0mtruncated\u001b[0m\u001b[0;34m,\u001b[0m\u001b[0minfo\u001b[0m \u001b[0;34m=\u001b[0m \u001b[0menv\u001b[0m\u001b[0;34m.\u001b[0m\u001b[0mstep\u001b[0m\u001b[0;34m(\u001b[0m\u001b[0maction\u001b[0m\u001b[0;34m)\u001b[0m\u001b[0;34m\u001b[0m\u001b[0;34m\u001b[0m\u001b[0m\n\u001b[0m\u001b[1;32m     27\u001b[0m \u001b[0;34m\u001b[0m\u001b[0m\n\u001b[1;32m     28\u001b[0m         \u001b[0mreward\u001b[0m \u001b[0;34m=\u001b[0m \u001b[0mfail\u001b[0m\u001b[0;34m(\u001b[0m\u001b[0mdone\u001b[0m\u001b[0;34m,\u001b[0m\u001b[0mpoints\u001b[0m\u001b[0;34m,\u001b[0m\u001b[0mreward\u001b[0m\u001b[0;34m)\u001b[0m\u001b[0;34m\u001b[0m\u001b[0;34m\u001b[0m\u001b[0m\n",
      "\u001b[0;32m~/opt/anaconda3/lib/python3.9/site-packages/gymnasium/wrappers/time_limit.py\u001b[0m in \u001b[0;36mstep\u001b[0;34m(self, action)\u001b[0m\n\u001b[1;32m     49\u001b[0m \u001b[0;34m\u001b[0m\u001b[0m\n\u001b[1;32m     50\u001b[0m         \"\"\"\n\u001b[0;32m---> 51\u001b[0;31m         \u001b[0mobservation\u001b[0m\u001b[0;34m,\u001b[0m \u001b[0mreward\u001b[0m\u001b[0;34m,\u001b[0m \u001b[0mterminated\u001b[0m\u001b[0;34m,\u001b[0m \u001b[0mtruncated\u001b[0m\u001b[0;34m,\u001b[0m \u001b[0minfo\u001b[0m \u001b[0;34m=\u001b[0m \u001b[0mself\u001b[0m\u001b[0;34m.\u001b[0m\u001b[0menv\u001b[0m\u001b[0;34m.\u001b[0m\u001b[0mstep\u001b[0m\u001b[0;34m(\u001b[0m\u001b[0maction\u001b[0m\u001b[0;34m)\u001b[0m\u001b[0;34m\u001b[0m\u001b[0;34m\u001b[0m\u001b[0m\n\u001b[0m\u001b[1;32m     52\u001b[0m         \u001b[0mself\u001b[0m\u001b[0;34m.\u001b[0m\u001b[0m_elapsed_steps\u001b[0m \u001b[0;34m+=\u001b[0m \u001b[0;36m1\u001b[0m\u001b[0;34m\u001b[0m\u001b[0;34m\u001b[0m\u001b[0m\n\u001b[1;32m     53\u001b[0m \u001b[0;34m\u001b[0m\u001b[0m\n",
      "\u001b[0;32m~/opt/anaconda3/lib/python3.9/site-packages/gymnasium/wrappers/order_enforcing.py\u001b[0m in \u001b[0;36mstep\u001b[0;34m(self, action)\u001b[0m\n\u001b[1;32m     35\u001b[0m         \u001b[0;32mif\u001b[0m \u001b[0;32mnot\u001b[0m \u001b[0mself\u001b[0m\u001b[0;34m.\u001b[0m\u001b[0m_has_reset\u001b[0m\u001b[0;34m:\u001b[0m\u001b[0;34m\u001b[0m\u001b[0;34m\u001b[0m\u001b[0m\n\u001b[1;32m     36\u001b[0m             \u001b[0;32mraise\u001b[0m \u001b[0mResetNeeded\u001b[0m\u001b[0;34m(\u001b[0m\u001b[0;34m\"Cannot call env.step() before calling env.reset()\"\u001b[0m\u001b[0;34m)\u001b[0m\u001b[0;34m\u001b[0m\u001b[0;34m\u001b[0m\u001b[0m\n\u001b[0;32m---> 37\u001b[0;31m         \u001b[0;32mreturn\u001b[0m \u001b[0mself\u001b[0m\u001b[0;34m.\u001b[0m\u001b[0menv\u001b[0m\u001b[0;34m.\u001b[0m\u001b[0mstep\u001b[0m\u001b[0;34m(\u001b[0m\u001b[0maction\u001b[0m\u001b[0;34m)\u001b[0m\u001b[0;34m\u001b[0m\u001b[0;34m\u001b[0m\u001b[0m\n\u001b[0m\u001b[1;32m     38\u001b[0m \u001b[0;34m\u001b[0m\u001b[0m\n\u001b[1;32m     39\u001b[0m     \u001b[0;32mdef\u001b[0m \u001b[0mreset\u001b[0m\u001b[0;34m(\u001b[0m\u001b[0mself\u001b[0m\u001b[0;34m,\u001b[0m \u001b[0;34m**\u001b[0m\u001b[0mkwargs\u001b[0m\u001b[0;34m)\u001b[0m\u001b[0;34m:\u001b[0m\u001b[0;34m\u001b[0m\u001b[0;34m\u001b[0m\u001b[0m\n",
      "\u001b[0;32m~/opt/anaconda3/lib/python3.9/site-packages/gymnasium/wrappers/env_checker.py\u001b[0m in \u001b[0;36mstep\u001b[0;34m(self, action)\u001b[0m\n\u001b[1;32m     37\u001b[0m             \u001b[0;32mreturn\u001b[0m \u001b[0menv_step_passive_checker\u001b[0m\u001b[0;34m(\u001b[0m\u001b[0mself\u001b[0m\u001b[0;34m.\u001b[0m\u001b[0menv\u001b[0m\u001b[0;34m,\u001b[0m \u001b[0maction\u001b[0m\u001b[0;34m)\u001b[0m\u001b[0;34m\u001b[0m\u001b[0;34m\u001b[0m\u001b[0m\n\u001b[1;32m     38\u001b[0m         \u001b[0;32melse\u001b[0m\u001b[0;34m:\u001b[0m\u001b[0;34m\u001b[0m\u001b[0;34m\u001b[0m\u001b[0m\n\u001b[0;32m---> 39\u001b[0;31m             \u001b[0;32mreturn\u001b[0m \u001b[0mself\u001b[0m\u001b[0;34m.\u001b[0m\u001b[0menv\u001b[0m\u001b[0;34m.\u001b[0m\u001b[0mstep\u001b[0m\u001b[0;34m(\u001b[0m\u001b[0maction\u001b[0m\u001b[0;34m)\u001b[0m\u001b[0;34m\u001b[0m\u001b[0;34m\u001b[0m\u001b[0m\n\u001b[0m\u001b[1;32m     40\u001b[0m \u001b[0;34m\u001b[0m\u001b[0m\n\u001b[1;32m     41\u001b[0m     \u001b[0;32mdef\u001b[0m \u001b[0mreset\u001b[0m\u001b[0;34m(\u001b[0m\u001b[0mself\u001b[0m\u001b[0;34m,\u001b[0m \u001b[0;34m**\u001b[0m\u001b[0mkwargs\u001b[0m\u001b[0;34m)\u001b[0m\u001b[0;34m:\u001b[0m\u001b[0;34m\u001b[0m\u001b[0;34m\u001b[0m\u001b[0m\n",
      "\u001b[0;32m~/opt/anaconda3/lib/python3.9/site-packages/gymnasium/envs/classic_control/cartpole.py\u001b[0m in \u001b[0;36mstep\u001b[0;34m(self, action)\u001b[0m\n\u001b[1;32m    130\u001b[0m     \u001b[0;32mdef\u001b[0m \u001b[0mstep\u001b[0m\u001b[0;34m(\u001b[0m\u001b[0mself\u001b[0m\u001b[0;34m,\u001b[0m \u001b[0maction\u001b[0m\u001b[0;34m)\u001b[0m\u001b[0;34m:\u001b[0m\u001b[0;34m\u001b[0m\u001b[0;34m\u001b[0m\u001b[0m\n\u001b[1;32m    131\u001b[0m         \u001b[0merr_msg\u001b[0m \u001b[0;34m=\u001b[0m \u001b[0;34mf\"{action!r} ({type(action)}) invalid\"\u001b[0m\u001b[0;34m\u001b[0m\u001b[0;34m\u001b[0m\u001b[0m\n\u001b[0;32m--> 132\u001b[0;31m         \u001b[0;32massert\u001b[0m \u001b[0mself\u001b[0m\u001b[0;34m.\u001b[0m\u001b[0maction_space\u001b[0m\u001b[0;34m.\u001b[0m\u001b[0mcontains\u001b[0m\u001b[0;34m(\u001b[0m\u001b[0maction\u001b[0m\u001b[0;34m)\u001b[0m\u001b[0;34m,\u001b[0m \u001b[0merr_msg\u001b[0m\u001b[0;34m\u001b[0m\u001b[0;34m\u001b[0m\u001b[0m\n\u001b[0m\u001b[1;32m    133\u001b[0m         \u001b[0;32massert\u001b[0m \u001b[0mself\u001b[0m\u001b[0;34m.\u001b[0m\u001b[0mstate\u001b[0m \u001b[0;32mis\u001b[0m \u001b[0;32mnot\u001b[0m \u001b[0;32mNone\u001b[0m\u001b[0;34m,\u001b[0m \u001b[0;34m\"Call reset before using step method.\"\u001b[0m\u001b[0;34m\u001b[0m\u001b[0;34m\u001b[0m\u001b[0m\n\u001b[1;32m    134\u001b[0m         \u001b[0mx\u001b[0m\u001b[0;34m,\u001b[0m \u001b[0mx_dot\u001b[0m\u001b[0;34m,\u001b[0m \u001b[0mtheta\u001b[0m\u001b[0;34m,\u001b[0m \u001b[0mtheta_dot\u001b[0m \u001b[0;34m=\u001b[0m \u001b[0mself\u001b[0m\u001b[0;34m.\u001b[0m\u001b[0mstate\u001b[0m\u001b[0;34m\u001b[0m\u001b[0;34m\u001b[0m\u001b[0m\n",
      "\u001b[0;31mAssertionError\u001b[0m: 1108 (<class 'numpy.int64'>) invalid"
     ]
    },
    {
     "data": {
      "image/png": "[encoded data removed]",
      "text/plain": [
       "<Figure size 640x480 with 1 Axes>"
      ]
     },
     "metadata": {},
     "output_type": "display_data"
    }
   ],
   "source": [
    "## visualization\n",
    "log_interval = 500\n",
    "render_interval = 30000\n",
    "\n",
    "fig = plt.figure()\n",
    "ax = fig.add_subplot(111)\n",
    "plt.ion()\n",
    "fig.canvas.draw()\n",
    "\n",
    "points_log = []\n",
    "mean_points_log = []\n",
    "epochs = []\n",
    "\n",
    "for epoch in range(EPOCHS):\n",
    "    initial_state = env.reset()[0]\n",
    "    discretized_state = discretize_observation(initial_state, BINS)\n",
    "    \n",
    "    done = False\n",
    "    points = 0\n",
    "    \n",
    "    epochs.append(epoch)\n",
    "    \n",
    "    #####play game######\n",
    "    while not done:\n",
    "        action = epsilon_greedy_action_selection(epsilon,q_table,discretized_state)\n",
    "        next_state,reward,done,truncated,info = env.step(action)\n",
    "        \n",
    "        reward = fail(done,points,reward)\n",
    "        \n",
    "        next_state_discretized = discretize_observation(next_state,BINS)\n",
    "        \n",
    "        old_q_value = q_table[discretized_state+(action,)]  \n",
    "        next_optimal_q_value = np.max(q_table[next_state_discretized])\n",
    "        \n",
    "        next_q = compute_next_q_value(old_q_value,reward,next_optimal_q_value, ALPHA, GAMMA)\n",
    "        q_table[discretized_state+(action,)] = next_q\n",
    "        \n",
    "        discretized_state = next_state_discretized\n",
    "        points += 1\n",
    "        \n",
    "    epsilon = reduce_epsilon(epsilon,epoch)\n",
    "    points_log.append(points)\n",
    "    running_mean = round(np.mean(points_log[-30:]),2)\n",
    "    mean_points_log.append(running_mean)\n",
    "    \n",
    "    ##\n",
    "    if epoch % log_interval == 0:\n",
    "        ax.clear()\n",
    "        ax.scatter(epochs,points_log)\n",
    "        ax.plot(epochs,points_log)\n",
    "        ax.plot(epochs,mean_points_log,label=f'Running Mean: {running_mean}')\n",
    "        plt.legend()\n",
    "        fig.canvas.draw()\n",
    "        \n",
    "env.close()"
   ]
  },
  {
   "cell_type": "code",
   "execution_count": null,
   "id": "6ff4f09c-403f-42ad-9450-086cda0a147b",
   "metadata": {},
   "outputs": [],
   "source": []
  }
 ],
 "metadata": {
  "kernelspec": {
   "display_name": "Python 3 (ipykernel)",
   "language": "python",
   "name": "python3"
  },
  "language_info": {
   "codemirror_mode": {
    "name": "ipython",
    "version": 3
   },
   "file_extension": ".py",
   "mimetype": "text/x-python",
   "name": "python",
   "nbconvert_exporter": "python",
   "pygments_lexer": "ipython3",
   "version": "3.9.13"
  }
 },
 "nbformat": 4,
 "nbformat_minor": 5
}
