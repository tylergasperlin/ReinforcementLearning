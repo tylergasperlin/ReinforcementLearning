{
 "cells": [
  {
   "cell_type": "code",
   "execution_count": 1,
   "id": "941802b1-c251-4f78-bd3a-495491fa3d34",
   "metadata": {},
   "outputs": [],
   "source": [
    "%matplotlib notebook\n",
    "import numpy as np\n",
    "import matplotlib.pyplot as plt\n",
    "import gymnasium as gym\n",
    "import time\n"
   ]
  },
  {
   "cell_type": "markdown",
   "id": "d59d9524-3dce-4b0b-86b2-a5c0ff0cb4e1",
   "metadata": {},
   "source": [
    "from gym.envs.registration import register\n",
    "\n",
    "theId = 'FrozenLake-v1'\n",
    "\n",
    "#try: \n",
    "    register(\n",
    "        id= theId,\n",
    "        entry_point='gym.envs.toy_text:FrozenLakeEnv',\n",
    "        kwargs={'map_name' : '4x4', 'is_slippery': False},\n",
    "        max_episode_steps=100,\n",
    "        reward_threshold=0.78, # optimum = .8196\n",
    "    )\n",
    "except: \n",
    "    print('already registered')"
   ]
  },
  {
   "cell_type": "code",
   "execution_count": 2,
   "id": "d691849f-936c-4bfd-80d7-4ace709d0523",
   "metadata": {},
   "outputs": [],
   "source": [
    "\n",
    "theId = 'FrozenLake-v1'\n",
    "env = gym.make(theId, desc=None, map_name=\"4x4\", is_slippery=True, render_mode=\"human\")\n",
    "env.reset()\n",
    "\n",
    "\n",
    "for step in range(15):\n",
    "    env.render()\n",
    "    action = env.action_space.sample()\n",
    "    observation, reward, terminated, truncated, info = env.step(action)\n",
    "    env.step\n",
    "    time.sleep(0.3)\n",
    "    \n",
    "    if terminated or truncated:\n",
    "        env.reset()\n",
    "    \n",
    "env.close()"
   ]
  },
  {
   "cell_type": "code",
   "execution_count": 3,
   "id": "852f8ebe-ff48-438f-a603-a413996aa280",
   "metadata": {},
   "outputs": [],
   "source": [
    "# row = state/observation \n",
    "# column = action\n",
    "\n",
    "action_size = env.action_space.n\n",
    "state_size = env.observation_space.n\n",
    "\n",
    "q_table = np.zeros([state_size, action_size])\n",
    "\n"
   ]
  },
  {
   "cell_type": "code",
   "execution_count": 4,
   "id": "0db5d1e4-eaeb-4c7a-a90b-97385d0a676c",
   "metadata": {},
   "outputs": [
    {
     "data": {
      "text/plain": [
       "array([[0., 0., 0., 0.],\n",
       "       [0., 0., 0., 0.],\n",
       "       [0., 0., 0., 0.],\n",
       "       [0., 0., 0., 0.],\n",
       "       [0., 0., 0., 0.],\n",
       "       [0., 0., 0., 0.],\n",
       "       [0., 0., 0., 0.],\n",
       "       [0., 0., 0., 0.],\n",
       "       [0., 0., 0., 0.],\n",
       "       [0., 0., 0., 0.],\n",
       "       [0., 0., 0., 0.],\n",
       "       [0., 0., 0., 0.],\n",
       "       [0., 0., 0., 0.],\n",
       "       [0., 0., 0., 0.],\n",
       "       [0., 0., 0., 0.],\n",
       "       [0., 0., 0., 0.]])"
      ]
     },
     "execution_count": 4,
     "metadata": {},
     "output_type": "execute_result"
    }
   ],
   "source": [
    "q_table"
   ]
  },
  {
   "cell_type": "code",
   "execution_count": 5,
   "id": "4d75fb9e-fb22-46fc-acf2-0ad6808f9df7",
   "metadata": {},
   "outputs": [],
   "source": [
    "EPOCHS = 2000 #episodes - how many times the agent plays the game"
   ]
  },
  {
   "cell_type": "code",
   "execution_count": 6,
   "id": "715ca7b2-b53c-4ac0-83d3-387fe0438763",
   "metadata": {},
   "outputs": [],
   "source": [
    "ALPHA = 0.8 #learning rate"
   ]
  },
  {
   "cell_type": "code",
   "execution_count": 7,
   "id": "af640a55-6cbf-4cff-8213-15e813839a49",
   "metadata": {},
   "outputs": [],
   "source": [
    "GAMMA = .95 #DISCOUNT RATE gamma^2 r + gamma^3 ..."
   ]
  },
  {
   "cell_type": "code",
   "execution_count": 8,
   "id": "76656eeb-f459-4167-954e-2469a7a066ef",
   "metadata": {},
   "outputs": [],
   "source": [
    "epsilon = 1.0\n",
    "max_epsilon = 1.0\n",
    "min_epsilon = 0.01\n",
    "decay_rate = 0.001\n"
   ]
  },
  {
   "cell_type": "code",
   "execution_count": 1,
   "id": "1bbdf8f9-314d-42ce-8177-737c4260b2a1",
   "metadata": {},
   "outputs": [],
   "source": [
    "def epsilon_greedy_action_selection(epsilon, q_table,discrete_state):\n",
    "    \n",
    "    random_number = np.random.random()\n",
    "    \n",
    "    #exploitation - choose thea action that maximizes q\n",
    "    if random_number > epsilon:\n",
    "        state_row = q_table[discrete_state,:] # return a row from q\n",
    "        action = np.argmax(state_row) #actions are 0,1,2,3\n",
    "    # exploration - choose a random action \n",
    "    else:\n",
    "        action = env.action_space.sample()\n",
    "        \n",
    "    return action"
   ]
  },
  {
   "cell_type": "code",
   "execution_count": 2,
   "id": "adc0430e-a7fb-4915-921f-433217e61347",
   "metadata": {},
   "outputs": [],
   "source": [
    "def computer_next_q_value(old_q_value, reward, next_optimal_q_value):\n",
    "    return old_q_value + ALPHA * (reward, GAMMA * next_optimal_q_value - old_q_value)"
   ]
  },
  {
   "cell_type": "code",
   "execution_count": null,
   "id": "a051c5a8-497e-4e97-9fea-498b84107d87",
   "metadata": {},
   "outputs": [],
   "source": [
    "def reduce_"
   ]
  }
 ],
 "metadata": {
  "kernelspec": {
   "display_name": "Python 3 (ipykernel)",
   "language": "python",
   "name": "python3"
  },
  "language_info": {
   "codemirror_mode": {
    "name": "ipython",
    "version": 3
   },
   "file_extension": ".py",
   "mimetype": "text/x-python",
   "name": "python",
   "nbconvert_exporter": "python",
   "pygments_lexer": "ipython3",
   "version": "3.9.13"
  }
 },
 "nbformat": 4,
 "nbformat_minor": 5
}
