{
 "cells": [
  {
   "cell_type": "code",
   "execution_count": 1,
   "id": "941802b1-c251-4f78-bd3a-495491fa3d34",
   "metadata": {},
   "outputs": [],
   "source": [
    "%matplotlib notebook\n",
    "%matplotlib inline\n",
    "import numpy as np\n",
    "import matplotlib.pyplot as plt\n",
    "import gymnasium as gym\n",
    "import time\n"
   ]
  },
  {
   "cell_type": "markdown",
   "id": "d59d9524-3dce-4b0b-86b2-a5c0ff0cb4e1",
   "metadata": {},
   "source": [
    "from gym.envs.registration import register\n",
    "\n",
    "theId = 'FrozenLake-v1'\n",
    "\n",
    "#try: \n",
    "    register(\n",
    "        id= theId,\n",
    "        entry_point='gym.envs.toy_text:FrozenLakeEnv',\n",
    "        kwargs={'map_name' : '4x4', 'is_slippery': False},\n",
    "        max_episode_steps=100,\n",
    "        reward_threshold=0.78, # optimum = .8196\n",
    "    )\n",
    "except: \n",
    "    print('already registered')"
   ]
  },
  {
   "cell_type": "code",
   "execution_count": 2,
   "id": "d691849f-936c-4bfd-80d7-4ace709d0523",
   "metadata": {},
   "outputs": [],
   "source": [
    "\n",
    "theId = 'FrozenLake-v1'\n",
    "env = gym.make(theId, desc=None, map_name=\"4x4\", is_slippery=True, render_mode=\"rgb_array\") #render_mode 'human'\n"
   ]
  },
  {
   "cell_type": "markdown",
   "id": "d8ce13ae-b676-4891-af7c-8f0372d7e5f4",
   "metadata": {},
   "source": [
    "env.reset()\n",
    "\n",
    "\n",
    "for step in range(15):\n",
    "    env.render()\n",
    "    action = env.action_space.sample()\n",
    "    observation, reward, terminated, truncated, info = env.step(action)\n",
    "    env.step\n",
    "    time.sleep(0.3)\n",
    "    \n",
    "    if terminated or truncated:\n",
    "        env.reset()\n",
    "    \n",
    "env.close()"
   ]
  },
  {
   "cell_type": "code",
   "execution_count": 3,
   "id": "852f8ebe-ff48-438f-a603-a413996aa280",
   "metadata": {},
   "outputs": [],
   "source": [
    "# row = state/observation \n",
    "# column = action\n",
    "\n",
    "action_size = env.action_space.n\n",
    "state_size = env.observation_space.n\n",
    "\n",
    "q_table = np.zeros([state_size, action_size])\n",
    "\n"
   ]
  },
  {
   "cell_type": "code",
   "execution_count": 4,
   "id": "0db5d1e4-eaeb-4c7a-a90b-97385d0a676c",
   "metadata": {},
   "outputs": [
    {
     "data": {
      "text/plain": [
       "(16, 4)"
      ]
     },
     "execution_count": 4,
     "metadata": {},
     "output_type": "execute_result"
    }
   ],
   "source": [
    "q_table\n",
    "q_table.shape"
   ]
  },
  {
   "cell_type": "code",
   "execution_count": 5,
   "id": "4d75fb9e-fb22-46fc-acf2-0ad6808f9df7",
   "metadata": {},
   "outputs": [],
   "source": [
    "EPOCHS = 20000 #episodes - how many times the agent plays the game"
   ]
  },
  {
   "cell_type": "code",
   "execution_count": 6,
   "id": "715ca7b2-b53c-4ac0-83d3-387fe0438763",
   "metadata": {},
   "outputs": [],
   "source": [
    "ALPHA = 0.8 #learning rate"
   ]
  },
  {
   "cell_type": "code",
   "execution_count": 7,
   "id": "af640a55-6cbf-4cff-8213-15e813839a49",
   "metadata": {},
   "outputs": [],
   "source": [
    "GAMMA = .95 #DISCOUNT RATE gamma^2 r + gamma^3 ..."
   ]
  },
  {
   "cell_type": "code",
   "execution_count": 8,
   "id": "76656eeb-f459-4167-954e-2469a7a066ef",
   "metadata": {},
   "outputs": [],
   "source": [
    "epsilon = 1.0\n",
    "max_epsilon = 1.0\n",
    "min_epsilon = 0.01\n",
    "decay_rate = 0.001\n"
   ]
  },
  {
   "cell_type": "code",
   "execution_count": 9,
   "id": "1bbdf8f9-314d-42ce-8177-737c4260b2a1",
   "metadata": {},
   "outputs": [],
   "source": [
    "def epsilon_greedy_action_selection(epsilon, q_table,discrete_state):\n",
    "    \n",
    "    random_number = np.random.random()\n",
    "    \n",
    "    #exploitation - choose thea action that maximizes q\n",
    "    if random_number > epsilon:\n",
    "        state_row = q_table[discrete_state,:] # return a row from q\n",
    "        action = np.argmax(state_row) #actions are 0,1,2,3\n",
    "    # exploration - choose a random action \n",
    "    else:\n",
    "        action = env.action_space.sample()\n",
    "        \n",
    "    return action"
   ]
  },
  {
   "cell_type": "code",
   "execution_count": 10,
   "id": "adc0430e-a7fb-4915-921f-433217e61347",
   "metadata": {},
   "outputs": [],
   "source": [
    "def compute_next_q_value(old_q_value, reward, next_optimal_q_value):\n",
    "    return old_q_value +  ALPHA * (reward + GAMMA * next_optimal_q_value - old_q_value)\n"
   ]
  },
  {
   "cell_type": "code",
   "execution_count": 11,
   "id": "a051c5a8-497e-4e97-9fea-498b84107d87",
   "metadata": {},
   "outputs": [],
   "source": [
    "def reduce_epsilon(epsilon,epoch):\n",
    "    return min_epsilon + (max_epsilon-min_epsilon)*np.exp(-decay_rate*epoch)"
   ]
  },
  {
   "cell_type": "code",
   "execution_count": 12,
   "id": "63ec0a61-af36-44ef-b009-b25b531da08f",
   "metadata": {},
   "outputs": [
    {
     "data": {
      "image/png": "[encoded data removed]",
      "text/plain": [
       "<Figure size 640x480 with 1 Axes>"
      ]
     },
     "metadata": {},
     "output_type": "display_data"
    }
   ],
   "source": [
    "# List of rewards\n",
    "rewards = []\n",
    "log_interval = 1000\n",
    "\n",
    "## table visualization\n",
    "\n",
    "fig = plt.figure()\n",
    "ax = fig.add_subplot(111)\n",
    "plt.ion()\n",
    "fig.canvas.draw()\n",
    "epoch_plot_tracker = []\n",
    "total_reward_plot_tracker = []\n",
    "\n",
    "## table visualiztion\n",
    "\n",
    "# Play 20k games\n",
    "for episode in range(EPOCHS):\n",
    "    # Reset the environment\n",
    "    state = env.reset()[0]\n",
    "    terminated = False\n",
    "    total_rewards = 0\n",
    "    #print('state')\n",
    "    #print(state)\n",
    "    \n",
    "    while not terminated:\n",
    "        action = epsilon_greedy_action_selection(epsilon,q_table, state)\n",
    "\n",
    "        # Take the action (a) and observe the outcome state(s') and reward (r)\n",
    "        new_state, reward, terminated, truncated, info = env.step(action)\n",
    "    \n",
    "        #print('q')\n",
    "        #print(q_table)\n",
    "        #print('now state')\n",
    "        #print(state)\n",
    "        #print('action')\n",
    "        #print(action)\n",
    "        # Look up current/old qtable value Q(s_t,a_t)\n",
    "        old_q_value =  q_table[state,action]  \n",
    "\n",
    "        # Get the next optimal Q-Value\n",
    "        next_optimal_q_value = np.max(q_table[new_state, :])  \n",
    "\n",
    "        # Compute next q value\n",
    "        next_q = compute_next_q_value(old_q_value, reward, next_optimal_q_value)   \n",
    "\n",
    "        # Update Q Table\n",
    "        q_table[state,action] = next_q\n",
    "\n",
    "        \n",
    "        \n",
    "        total_rewards = total_rewards + reward\n",
    "        \n",
    "        # Our new state is state\n",
    "        state = new_state\n",
    "\n",
    "        \n",
    "    episode += 1\n",
    "    # Reduce epsilon (because we need less and less exploration)\n",
    "    epsilon = reduce_epsilon(epsilon,episode) \n",
    "    rewards.append(total_rewards)\n",
    "    \n",
    "    total_reward_plot_tracker.append(np.sum(rewards))\n",
    "    epoch_plot_tracker.append(episode)\n",
    "    \n",
    "    if episode % log_interval == 0:\n",
    "        ax.clear()\n",
    "        ax.plot(epoch_plot_tracker,total_reward_plot_tracker)\n",
    "        fig.canvas.draw()\n",
    "        print(np.sum(rewards))\n",
    "\n",
    "env.close()"
   ]
  },
  {
   "cell_type": "code",
   "execution_count": 13,
   "id": "13c6c061-231e-4214-80a2-09d421ba0bf5",
   "metadata": {},
   "outputs": [
    {
     "data": {
      "text/plain": [
       "array([[2.62275633e-01, 6.55545212e-02, 6.20217125e-02, 5.96273707e-02],\n",
       "       [1.82454826e-03, 1.76897501e-02, 2.94501850e-02, 9.23410270e-02],\n",
       "       [6.03298534e-03, 8.64185665e-03, 1.73083520e-03, 2.70948643e-02],\n",
       "       [1.55287818e-03, 6.28804659e-03, 9.71072753e-05, 1.87363470e-02],\n",
       "       [5.05805945e-01, 6.33902752e-02, 6.62943088e-02, 4.01560311e-02],\n",
       "       [0.00000000e+00, 0.00000000e+00, 0.00000000e+00, 0.00000000e+00],\n",
       "       [1.26127149e-01, 6.44730351e-06, 2.32741703e-03, 4.80613395e-06],\n",
       "       [0.00000000e+00, 0.00000000e+00, 0.00000000e+00, 0.00000000e+00],\n",
       "       [3.82579353e-02, 1.82757083e-02, 7.03678160e-03, 6.30525478e-01],\n",
       "       [2.90090226e-02, 7.46625297e-01, 4.51853426e-02, 1.71491995e-02],\n",
       "       [8.80971769e-01, 1.04567206e-03, 9.25076572e-04, 1.91604775e-02],\n",
       "       [0.00000000e+00, 0.00000000e+00, 0.00000000e+00, 0.00000000e+00],\n",
       "       [0.00000000e+00, 0.00000000e+00, 0.00000000e+00, 0.00000000e+00],\n",
       "       [4.99161464e-02, 3.60205501e-02, 8.01969280e-01, 4.87372504e-02],\n",
       "       [1.79547797e-01, 6.12433151e-01, 9.91748974e-01, 5.72639846e-01],\n",
       "       [0.00000000e+00, 0.00000000e+00, 0.00000000e+00, 0.00000000e+00]])"
      ]
     },
     "execution_count": 13,
     "metadata": {},
     "output_type": "execute_result"
    }
   ],
   "source": [
    "q_table"
   ]
  },
  {
   "cell_type": "code",
   "execution_count": null,
   "id": "0c2fc537-4a1f-4176-9847-0a0beee7c170",
   "metadata": {},
   "outputs": [],
   "source": []
  }
 ],
 "metadata": {
  "kernelspec": {
   "display_name": "Python 3 (ipykernel)",
   "language": "python",
   "name": "python3"
  },
  "language_info": {
   "codemirror_mode": {
    "name": "ipython",
    "version": 3
   },
   "file_extension": ".py",
   "mimetype": "text/x-python",
   "name": "python",
   "nbconvert_exporter": "python",
   "pygments_lexer": "ipython3",
   "version": "3.9.13"
  }
 },
 "nbformat": 4,
 "nbformat_minor": 5
}
