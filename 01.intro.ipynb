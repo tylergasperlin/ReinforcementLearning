{
 "cells": [
  {
   "cell_type": "code",
   "execution_count": 15,
   "id": "054c1f88-e2eb-46fd-bb79-9302fd1bb9c5",
   "metadata": {},
   "outputs": [
    {
     "name": "stdout",
     "output_type": "stream",
     "text": [
      "Requirement already satisfied: gymnasium[classic_control] in /Users/tylergasperlin/opt/anaconda3/lib/python3.9/site-packages (0.27.0)\n",
      "Requirement already satisfied: cloudpickle>=1.2.0 in /Users/tylergasperlin/opt/anaconda3/lib/python3.9/site-packages (from gymnasium[classic_control]) (2.0.0)\n",
      "Requirement already satisfied: shimmy<1.0,>=0.1.0 in /Users/tylergasperlin/opt/anaconda3/lib/python3.9/site-packages (from gymnasium[classic_control]) (0.2.0)\n",
      "Requirement already satisfied: importlib-metadata>=4.8.0 in /Users/tylergasperlin/opt/anaconda3/lib/python3.9/site-packages (from gymnasium[classic_control]) (4.11.3)\n",
      "Requirement already satisfied: jax-jumpy>=0.2.0 in /Users/tylergasperlin/opt/anaconda3/lib/python3.9/site-packages (from gymnasium[classic_control]) (0.2.0)\n",
      "Requirement already satisfied: gymnasium-notices>=0.0.1 in /Users/tylergasperlin/opt/anaconda3/lib/python3.9/site-packages (from gymnasium[classic_control]) (0.0.1)\n",
      "Requirement already satisfied: typing-extensions>=4.3.0 in /Users/tylergasperlin/opt/anaconda3/lib/python3.9/site-packages (from gymnasium[classic_control]) (4.3.0)\n",
      "Requirement already satisfied: numpy>=1.21.0 in /Users/tylergasperlin/opt/anaconda3/lib/python3.9/site-packages (from gymnasium[classic_control]) (1.21.5)\n",
      "Collecting pygame==2.1.3.dev8\n",
      "  Downloading pygame-2.1.3.dev8-cp39-cp39-macosx_10_9_x86_64.whl (12.9 MB)\n",
      "\u001b[2K     \u001b[90m━━━━━━━━━━━━━━━━━━━━━━━━━━━━━━━━━━━━━━━━\u001b[0m \u001b[32m12.9/12.9 MB\u001b[0m \u001b[31m11.3 MB/s\u001b[0m eta \u001b[36m0:00:00\u001b[0m00:01\u001b[0m00:01\u001b[0m\n",
      "\u001b[?25hRequirement already satisfied: zipp>=0.5 in /Users/tylergasperlin/opt/anaconda3/lib/python3.9/site-packages (from importlib-metadata>=4.8.0->gymnasium[classic_control]) (3.8.0)\n",
      "Installing collected packages: pygame\n",
      "  Attempting uninstall: pygame\n",
      "    Found existing installation: pygame 2.1.0\n",
      "    Uninstalling pygame-2.1.0:\n",
      "      Successfully uninstalled pygame-2.1.0\n",
      "Successfully installed pygame-2.1.3.dev8\n",
      "Note: you may need to restart the kernel to use updated packages.\n"
     ]
    }
   ],
   "source": [
    "pip install 'gymnasium[classic_control]'"
   ]
  },
  {
   "cell_type": "code",
   "execution_count": null,
   "id": "6a0036a3-699e-4b8b-8366-7b6c06768259",
   "metadata": {},
   "outputs": [
    {
     "name": "stdout",
     "output_type": "stream",
     "text": [
      "Found existing installation: ale-py 0.8.0\n",
      "Uninstalling ale-py-0.8.0:\n",
      "  Would remove:\n",
      "    /Users/tylergasperlin/opt/anaconda3/bin/ale-import-roms\n",
      "    /Users/tylergasperlin/opt/anaconda3/lib/python3.9/site-packages/ale_py-0.8.0.dist-info/*\n",
      "    /Users/tylergasperlin/opt/anaconda3/lib/python3.9/site-packages/ale_py/*\n",
      "Proceed (Y/n)? "
     ]
    }
   ],
   "source": [
    "#pip uninstall ale_py"
   ]
  },
  {
   "cell_type": "code",
   "execution_count": null,
   "id": "d0c82575-2706-42e2-ba84-fc3f25bd4d25",
   "metadata": {},
   "outputs": [],
   "source": [
    "#pip install 'gymnasium[accept-rom-license]'\n"
   ]
  },
  {
   "cell_type": "code",
   "execution_count": 1,
   "id": "8bf2a1ab-dd9f-40d5-83b4-97160753301e",
   "metadata": {},
   "outputs": [],
   "source": [
    "import gymnasium as gym\n",
    "import atari_py"
   ]
  },
  {
   "cell_type": "code",
   "execution_count": 2,
   "id": "9b74c1c9-c5c5-4417-b7e9-b2f852b4169f",
   "metadata": {},
   "outputs": [],
   "source": [
    "import matplotlib.pyplot as plt\n",
    "import time"
   ]
  },
  {
   "cell_type": "code",
   "execution_count": 3,
   "id": "79d34f24-4009-45d1-8c02-8344cecc480c",
   "metadata": {},
   "outputs": [],
   "source": [
    "# https://gymnasium.farama.org/environments/atari/breakout/\n",
    "env_name = \"ALE/Breakout-v5\"\n"
   ]
  },
  {
   "cell_type": "code",
   "execution_count": 4,
   "id": "eaefb306-785f-4b6c-b82d-f3df223a58a3",
   "metadata": {},
   "outputs": [
    {
     "name": "stderr",
     "output_type": "stream",
     "text": [
      "A.L.E: Arcade Learning Environment (version 0.8.0+919230b)\n",
      "[Powered by Stella]\n"
     ]
    }
   ],
   "source": [
    "env = gym.make(env_name, render_mode='human')\n"
   ]
  },
  {
   "cell_type": "code",
   "execution_count": 5,
   "id": "af45c2eb-86d0-4622-bc5a-a50ed48d4b60",
   "metadata": {},
   "outputs": [
    {
     "name": "stderr",
     "output_type": "stream",
     "text": [
      "objc[90575]: Class SDLApplication is implemented in both /Users/tylergasperlin/opt/anaconda3/lib/python3.9/site-packages/ale_py/libSDL2-2.0.dylib (0x112405088) and /Users/tylergasperlin/opt/anaconda3/lib/python3.9/site-packages/pygame/.dylibs/libSDL2-2.0.0.dylib (0x125e54dd8). One of the two will be used. Which one is undefined.\n",
      "objc[90575]: Class SDLAppDelegate is implemented in both /Users/tylergasperlin/opt/anaconda3/lib/python3.9/site-packages/ale_py/libSDL2-2.0.dylib (0x1124050d8) and /Users/tylergasperlin/opt/anaconda3/lib/python3.9/site-packages/pygame/.dylibs/libSDL2-2.0.0.dylib (0x125e54e28). One of the two will be used. Which one is undefined.\n",
      "objc[90575]: Class SDLTranslatorResponder is implemented in both /Users/tylergasperlin/opt/anaconda3/lib/python3.9/site-packages/ale_py/libSDL2-2.0.dylib (0x112405150) and /Users/tylergasperlin/opt/anaconda3/lib/python3.9/site-packages/pygame/.dylibs/libSDL2-2.0.0.dylib (0x125e54ea0). One of the two will be used. Which one is undefined.\n",
      "objc[90575]: Class SDLMessageBoxPresenter is implemented in both /Users/tylergasperlin/opt/anaconda3/lib/python3.9/site-packages/ale_py/libSDL2-2.0.dylib (0x112405178) and /Users/tylergasperlin/opt/anaconda3/lib/python3.9/site-packages/pygame/.dylibs/libSDL2-2.0.0.dylib (0x125e54ec8). One of the two will be used. Which one is undefined.\n",
      "objc[90575]: Class SDL_cocoametalview is implemented in both /Users/tylergasperlin/opt/anaconda3/lib/python3.9/site-packages/ale_py/libSDL2-2.0.dylib (0x1124051c8) and /Users/tylergasperlin/opt/anaconda3/lib/python3.9/site-packages/pygame/.dylibs/libSDL2-2.0.0.dylib (0x125e54f18). One of the two will be used. Which one is undefined.\n",
      "objc[90575]: Class SDLOpenGLContext is implemented in both /Users/tylergasperlin/opt/anaconda3/lib/python3.9/site-packages/ale_py/libSDL2-2.0.dylib (0x112405218) and /Users/tylergasperlin/opt/anaconda3/lib/python3.9/site-packages/pygame/.dylibs/libSDL2-2.0.0.dylib (0x125e54f68). One of the two will be used. Which one is undefined.\n",
      "objc[90575]: Class SDLWindow is implemented in both /Users/tylergasperlin/opt/anaconda3/lib/python3.9/site-packages/ale_py/libSDL2-2.0.dylib (0x112405268) and /Users/tylergasperlin/opt/anaconda3/lib/python3.9/site-packages/pygame/.dylibs/libSDL2-2.0.0.dylib (0x125e54fb8). One of the two will be used. Which one is undefined.\n",
      "objc[90575]: Class Cocoa_WindowListener is implemented in both /Users/tylergasperlin/opt/anaconda3/lib/python3.9/site-packages/ale_py/libSDL2-2.0.dylib (0x112405290) and /Users/tylergasperlin/opt/anaconda3/lib/python3.9/site-packages/pygame/.dylibs/libSDL2-2.0.0.dylib (0x125e54fe0). One of the two will be used. Which one is undefined.\n",
      "objc[90575]: Class SDLView is implemented in both /Users/tylergasperlin/opt/anaconda3/lib/python3.9/site-packages/ale_py/libSDL2-2.0.dylib (0x112405308) and /Users/tylergasperlin/opt/anaconda3/lib/python3.9/site-packages/pygame/.dylibs/libSDL2-2.0.0.dylib (0x125e55058). One of the two will be used. Which one is undefined.\n",
      "objc[90575]: Class METAL_RenderData is implemented in both /Users/tylergasperlin/opt/anaconda3/lib/python3.9/site-packages/ale_py/libSDL2-2.0.dylib (0x112405358) and /Users/tylergasperlin/opt/anaconda3/lib/python3.9/site-packages/pygame/.dylibs/libSDL2-2.0.0.dylib (0x125e550a8). One of the two will be used. Which one is undefined.\n",
      "objc[90575]: Class METAL_TextureData is implemented in both /Users/tylergasperlin/opt/anaconda3/lib/python3.9/site-packages/ale_py/libSDL2-2.0.dylib (0x1124053a8) and /Users/tylergasperlin/opt/anaconda3/lib/python3.9/site-packages/pygame/.dylibs/libSDL2-2.0.0.dylib (0x125e550f8). One of the two will be used. Which one is undefined.\n"
     ]
    }
   ],
   "source": [
    "from gym.utils import play"
   ]
  },
  {
   "cell_type": "code",
   "execution_count": 6,
   "id": "f2c40043-c712-471f-a857-cd59d20c0209",
   "metadata": {},
   "outputs": [
    {
     "name": "stderr",
     "output_type": "stream",
     "text": [
      "\u001b[31mERROR: PlayableGame wrapper works only with rgb_array and rgb_array_list render modes, but your environment render_mode = human.\u001b[0m\n",
      "/Users/tylergasperlin/opt/anaconda3/lib/python3.9/site-packages/gymnasium/utils/passive_env_checker.py:357: UserWarning: \u001b[33mWARN: No render fps was declared in the environment (env.metadata['render_fps'] is None or not defined), rendering may occur at inconsistent fps.\u001b[0m\n",
      "  logger.warn(\n"
     ]
    },
    {
     "ename": "AssertionError",
     "evalue": "",
     "output_type": "error",
     "traceback": [
      "\u001b[0;31m---------------------------------------------------------------------------\u001b[0m",
      "\u001b[0;31mAssertionError\u001b[0m                            Traceback (most recent call last)",
      "\u001b[0;32m/var/folders/4p/q2w97g_n3xv8t1g03z0l35sw0000gn/T/ipykernel_90575/2592110509.py\u001b[0m in \u001b[0;36m<module>\u001b[0;34m\u001b[0m\n\u001b[0;32m----> 1\u001b[0;31m \u001b[0mplay\u001b[0m\u001b[0;34m.\u001b[0m\u001b[0mplay\u001b[0m\u001b[0;34m(\u001b[0m\u001b[0menv\u001b[0m\u001b[0;34m,\u001b[0m \u001b[0mzoom\u001b[0m\u001b[0;34m=\u001b[0m\u001b[0;36m3\u001b[0m\u001b[0;34m)\u001b[0m\u001b[0;34m\u001b[0m\u001b[0;34m\u001b[0m\u001b[0m\n\u001b[0m",
      "\u001b[0;32m~/opt/anaconda3/lib/python3.9/site-packages/gym/utils/play.py\u001b[0m in \u001b[0;36mplay\u001b[0;34m(env, transpose, fps, zoom, callback, keys_to_action, seed, noop)\u001b[0m\n\u001b[1;32m    239\u001b[0m         \u001b[0mkey_code_to_action\u001b[0m\u001b[0;34m[\u001b[0m\u001b[0mkey_code\u001b[0m\u001b[0;34m]\u001b[0m \u001b[0;34m=\u001b[0m \u001b[0maction\u001b[0m\u001b[0;34m\u001b[0m\u001b[0;34m\u001b[0m\u001b[0m\n\u001b[1;32m    240\u001b[0m \u001b[0;34m\u001b[0m\u001b[0m\n\u001b[0;32m--> 241\u001b[0;31m     \u001b[0mgame\u001b[0m \u001b[0;34m=\u001b[0m \u001b[0mPlayableGame\u001b[0m\u001b[0;34m(\u001b[0m\u001b[0menv\u001b[0m\u001b[0;34m,\u001b[0m \u001b[0mkey_code_to_action\u001b[0m\u001b[0;34m,\u001b[0m \u001b[0mzoom\u001b[0m\u001b[0;34m)\u001b[0m\u001b[0;34m\u001b[0m\u001b[0;34m\u001b[0m\u001b[0m\n\u001b[0m\u001b[1;32m    242\u001b[0m \u001b[0;34m\u001b[0m\u001b[0m\n\u001b[1;32m    243\u001b[0m     \u001b[0;32mif\u001b[0m \u001b[0mfps\u001b[0m \u001b[0;32mis\u001b[0m \u001b[0;32mNone\u001b[0m\u001b[0;34m:\u001b[0m\u001b[0;34m\u001b[0m\u001b[0;34m\u001b[0m\u001b[0m\n",
      "\u001b[0;32m~/opt/anaconda3/lib/python3.9/site-packages/gym/utils/play.py\u001b[0m in \u001b[0;36m__init__\u001b[0;34m(self, env, keys_to_action, zoom)\u001b[0m\n\u001b[1;32m     59\u001b[0m         \u001b[0mself\u001b[0m\u001b[0;34m.\u001b[0m\u001b[0menv\u001b[0m \u001b[0;34m=\u001b[0m \u001b[0menv\u001b[0m\u001b[0;34m\u001b[0m\u001b[0;34m\u001b[0m\u001b[0m\n\u001b[1;32m     60\u001b[0m         \u001b[0mself\u001b[0m\u001b[0;34m.\u001b[0m\u001b[0mrelevant_keys\u001b[0m \u001b[0;34m=\u001b[0m \u001b[0mself\u001b[0m\u001b[0;34m.\u001b[0m\u001b[0m_get_relevant_keys\u001b[0m\u001b[0;34m(\u001b[0m\u001b[0mkeys_to_action\u001b[0m\u001b[0;34m)\u001b[0m\u001b[0;34m\u001b[0m\u001b[0;34m\u001b[0m\u001b[0m\n\u001b[0;32m---> 61\u001b[0;31m         \u001b[0mself\u001b[0m\u001b[0;34m.\u001b[0m\u001b[0mvideo_size\u001b[0m \u001b[0;34m=\u001b[0m \u001b[0mself\u001b[0m\u001b[0;34m.\u001b[0m\u001b[0m_get_video_size\u001b[0m\u001b[0;34m(\u001b[0m\u001b[0mzoom\u001b[0m\u001b[0;34m)\u001b[0m\u001b[0;34m\u001b[0m\u001b[0;34m\u001b[0m\u001b[0m\n\u001b[0m\u001b[1;32m     62\u001b[0m         \u001b[0mself\u001b[0m\u001b[0;34m.\u001b[0m\u001b[0mscreen\u001b[0m \u001b[0;34m=\u001b[0m \u001b[0mpygame\u001b[0m\u001b[0;34m.\u001b[0m\u001b[0mdisplay\u001b[0m\u001b[0;34m.\u001b[0m\u001b[0mset_mode\u001b[0m\u001b[0;34m(\u001b[0m\u001b[0mself\u001b[0m\u001b[0;34m.\u001b[0m\u001b[0mvideo_size\u001b[0m\u001b[0;34m)\u001b[0m\u001b[0;34m\u001b[0m\u001b[0;34m\u001b[0m\u001b[0m\n\u001b[1;32m     63\u001b[0m         \u001b[0mself\u001b[0m\u001b[0;34m.\u001b[0m\u001b[0mpressed_keys\u001b[0m \u001b[0;34m=\u001b[0m \u001b[0;34m[\u001b[0m\u001b[0;34m]\u001b[0m\u001b[0;34m\u001b[0m\u001b[0;34m\u001b[0m\u001b[0m\n",
      "\u001b[0;32m~/opt/anaconda3/lib/python3.9/site-packages/gym/utils/play.py\u001b[0m in \u001b[0;36m_get_video_size\u001b[0;34m(self, zoom)\u001b[0m\n\u001b[1;32m     85\u001b[0m         \u001b[0;32mif\u001b[0m \u001b[0misinstance\u001b[0m\u001b[0;34m(\u001b[0m\u001b[0mrendered\u001b[0m\u001b[0;34m,\u001b[0m \u001b[0mList\u001b[0m\u001b[0;34m)\u001b[0m\u001b[0;34m:\u001b[0m\u001b[0;34m\u001b[0m\u001b[0;34m\u001b[0m\u001b[0m\n\u001b[1;32m     86\u001b[0m             \u001b[0mrendered\u001b[0m \u001b[0;34m=\u001b[0m \u001b[0mrendered\u001b[0m\u001b[0;34m[\u001b[0m\u001b[0;34m-\u001b[0m\u001b[0;36m1\u001b[0m\u001b[0;34m]\u001b[0m\u001b[0;34m\u001b[0m\u001b[0;34m\u001b[0m\u001b[0m\n\u001b[0;32m---> 87\u001b[0;31m         \u001b[0;32massert\u001b[0m \u001b[0mrendered\u001b[0m \u001b[0;32mis\u001b[0m \u001b[0;32mnot\u001b[0m \u001b[0;32mNone\u001b[0m \u001b[0;32mand\u001b[0m \u001b[0misinstance\u001b[0m\u001b[0;34m(\u001b[0m\u001b[0mrendered\u001b[0m\u001b[0;34m,\u001b[0m \u001b[0mnp\u001b[0m\u001b[0;34m.\u001b[0m\u001b[0mndarray\u001b[0m\u001b[0;34m)\u001b[0m\u001b[0;34m\u001b[0m\u001b[0;34m\u001b[0m\u001b[0m\n\u001b[0m\u001b[1;32m     88\u001b[0m         \u001b[0mvideo_size\u001b[0m \u001b[0;34m=\u001b[0m \u001b[0;34m(\u001b[0m\u001b[0mrendered\u001b[0m\u001b[0;34m.\u001b[0m\u001b[0mshape\u001b[0m\u001b[0;34m[\u001b[0m\u001b[0;36m1\u001b[0m\u001b[0;34m]\u001b[0m\u001b[0;34m,\u001b[0m \u001b[0mrendered\u001b[0m\u001b[0;34m.\u001b[0m\u001b[0mshape\u001b[0m\u001b[0;34m[\u001b[0m\u001b[0;36m0\u001b[0m\u001b[0;34m]\u001b[0m\u001b[0;34m)\u001b[0m\u001b[0;34m\u001b[0m\u001b[0;34m\u001b[0m\u001b[0m\n\u001b[1;32m     89\u001b[0m \u001b[0;34m\u001b[0m\u001b[0m\n",
      "\u001b[0;31mAssertionError\u001b[0m: "
     ]
    }
   ],
   "source": [
    "play.play(env, zoom=3)"
   ]
  },
  {
   "cell_type": "code",
   "execution_count": null,
   "id": "e4480a3a-49e9-439a-9bef-f57ea3938413",
   "metadata": {},
   "outputs": [
    {
     "name": "stdout",
     "output_type": "stream",
     "text": [
      "Found existing installation: Ale 0.8.4\n",
      "Uninstalling Ale-0.8.4:\n",
      "  Would remove:\n",
      "    /Users/tylergasperlin/opt/anaconda3/lib/python3.9/site-packages/Ale-0.8.4.dist-info/*\n",
      "    /Users/tylergasperlin/opt/anaconda3/lib/python3.9/site-packages/ale/*\n",
      "Proceed (Y/n)? "
     ]
    }
   ],
   "source": [
    "pip uninstall ale"
   ]
  },
  {
   "cell_type": "code",
   "execution_count": null,
   "id": "b8612b2e-8af1-4819-bd07-d09d342da3cb",
   "metadata": {},
   "outputs": [],
   "source": [
    "y"
   ]
  },
  {
   "cell_type": "code",
   "execution_count": null,
   "id": "fce19fb5-f5f8-4758-8169-56005a6d5914",
   "metadata": {},
   "outputs": [],
   "source": []
  }
 ],
 "metadata": {
  "kernelspec": {
   "display_name": "Python 3 (ipykernel)",
   "language": "python",
   "name": "python3"
  },
  "language_info": {
   "codemirror_mode": {
    "name": "ipython",
    "version": 3
   },
   "file_extension": ".py",
   "mimetype": "text/x-python",
   "name": "python",
   "nbconvert_exporter": "python",
   "pygments_lexer": "ipython3",
   "version": "3.9.13"
  },
  "vscode": {
   "interpreter": {
    "hash": "6d7b226c8dd3a28d7a9be097f0d83abd5454c6f9260f8896d3f9a67e7dc7c9ca"
   }
  }
 },
 "nbformat": 4,
 "nbformat_minor": 5
}
