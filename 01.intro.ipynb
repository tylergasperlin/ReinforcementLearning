{
 "cells": [
  {
   "cell_type": "code",
   "execution_count": 15,
   "id": "054c1f88-e2eb-46fd-bb79-9302fd1bb9c5",
   "metadata": {},
   "outputs": [
    {
     "name": "stdout",
     "output_type": "stream",
     "text": [
      "Requirement already satisfied: gymnasium[classic_control] in /Users/tylergasperlin/opt/anaconda3/lib/python3.9/site-packages (0.27.0)\n",
      "Requirement already satisfied: cloudpickle>=1.2.0 in /Users/tylergasperlin/opt/anaconda3/lib/python3.9/site-packages (from gymnasium[classic_control]) (2.0.0)\n",
      "Requirement already satisfied: shimmy<1.0,>=0.1.0 in /Users/tylergasperlin/opt/anaconda3/lib/python3.9/site-packages (from gymnasium[classic_control]) (0.2.0)\n",
      "Requirement already satisfied: importlib-metadata>=4.8.0 in /Users/tylergasperlin/opt/anaconda3/lib/python3.9/site-packages (from gymnasium[classic_control]) (4.11.3)\n",
      "Requirement already satisfied: jax-jumpy>=0.2.0 in /Users/tylergasperlin/opt/anaconda3/lib/python3.9/site-packages (from gymnasium[classic_control]) (0.2.0)\n",
      "Requirement already satisfied: gymnasium-notices>=0.0.1 in /Users/tylergasperlin/opt/anaconda3/lib/python3.9/site-packages (from gymnasium[classic_control]) (0.0.1)\n",
      "Requirement already satisfied: typing-extensions>=4.3.0 in /Users/tylergasperlin/opt/anaconda3/lib/python3.9/site-packages (from gymnasium[classic_control]) (4.3.0)\n",
      "Requirement already satisfied: numpy>=1.21.0 in /Users/tylergasperlin/opt/anaconda3/lib/python3.9/site-packages (from gymnasium[classic_control]) (1.21.5)\n",
      "Collecting pygame==2.1.3.dev8\n",
      "  Downloading pygame-2.1.3.dev8-cp39-cp39-macosx_10_9_x86_64.whl (12.9 MB)\n",
      "\u001b[2K     \u001b[90m━━━━━━━━━━━━━━━━━━━━━━━━━━━━━━━━━━━━━━━━\u001b[0m \u001b[32m12.9/12.9 MB\u001b[0m \u001b[31m11.3 MB/s\u001b[0m eta \u001b[36m0:00:00\u001b[0m00:01\u001b[0m00:01\u001b[0m\n",
      "\u001b[?25hRequirement already satisfied: zipp>=0.5 in /Users/tylergasperlin/opt/anaconda3/lib/python3.9/site-packages (from importlib-metadata>=4.8.0->gymnasium[classic_control]) (3.8.0)\n",
      "Installing collected packages: pygame\n",
      "  Attempting uninstall: pygame\n",
      "    Found existing installation: pygame 2.1.0\n",
      "    Uninstalling pygame-2.1.0:\n",
      "      Successfully uninstalled pygame-2.1.0\n",
      "Successfully installed pygame-2.1.3.dev8\n",
      "Note: you may need to restart the kernel to use updated packages.\n"
     ]
    }
   ],
   "source": [
    "pip install 'gymnasium[classic_control]'"
   ]
  },
  {
   "cell_type": "code",
   "execution_count": null,
   "id": "6a0036a3-699e-4b8b-8366-7b6c06768259",
   "metadata": {},
   "outputs": [
    {
     "name": "stdout",
     "output_type": "stream",
     "text": [
      "Found existing installation: ale-py 0.8.0\n",
      "Uninstalling ale-py-0.8.0:\n",
      "  Would remove:\n",
      "    /Users/tylergasperlin/opt/anaconda3/bin/ale-import-roms\n",
      "    /Users/tylergasperlin/opt/anaconda3/lib/python3.9/site-packages/ale_py-0.8.0.dist-info/*\n",
      "    /Users/tylergasperlin/opt/anaconda3/lib/python3.9/site-packages/ale_py/*\n",
      "Proceed (Y/n)? "
     ]
    }
   ],
   "source": [
    "#pip uninstall ale_py"
   ]
  },
  {
   "cell_type": "code",
   "execution_count": null,
   "id": "d0c82575-2706-42e2-ba84-fc3f25bd4d25",
   "metadata": {},
   "outputs": [],
   "source": [
    "#pip install 'gymnasium[accept-rom-license]'\n"
   ]
  },
  {
   "cell_type": "code",
   "execution_count": 14,
   "id": "8bf2a1ab-dd9f-40d5-83b4-97160753301e",
   "metadata": {},
   "outputs": [],
   "source": [
    "import gymnasium as gym\n",
    "env = gym.make(\"Breakout-v4\", render_mode=\"human\")\n",
    "observation, info = env.reset(seed=42)\n",
    "for _ in range(1000):\n",
    "   action = env.action_space.sample()  # this is where you would insert your policy\n",
    "   observation, reward, terminated, truncated, info = env.step(action)\n",
    "\n",
    "   if terminated or truncated:\n",
    "      observation, info = env.reset()\n",
    "env.close()"
   ]
  },
  {
   "cell_type": "code",
   "execution_count": 15,
   "id": "9b74c1c9-c5c5-4417-b7e9-b2f852b4169f",
   "metadata": {},
   "outputs": [],
   "source": [
    "import matplotlib.pyplot as plt\n",
    "import time"
   ]
  },
  {
   "cell_type": "code",
   "execution_count": 16,
   "id": "79d34f24-4009-45d1-8c02-8344cecc480c",
   "metadata": {},
   "outputs": [],
   "source": [
    "# https://gymnasium.farama.org/environments/atari/breakout/\n",
    "env_name = \"MsPacman-v4\"\n"
   ]
  },
  {
   "cell_type": "code",
   "execution_count": 17,
   "id": "eaefb306-785f-4b6c-b82d-f3df223a58a3",
   "metadata": {},
   "outputs": [],
   "source": [
    "env = gym.make(env_name, render_mode='human')\n"
   ]
  },
  {
   "cell_type": "code",
   "execution_count": 18,
   "id": "af45c2eb-86d0-4622-bc5a-a50ed48d4b60",
   "metadata": {},
   "outputs": [],
   "source": [
    "from gym.utils import play"
   ]
  },
  {
   "cell_type": "code",
   "execution_count": 19,
   "id": "f2c40043-c712-471f-a857-cd59d20c0209",
   "metadata": {},
   "outputs": [
    {
     "name": "stderr",
     "output_type": "stream",
     "text": [
      "\u001b[31mERROR: PlayableGame wrapper works only with rgb_array and rgb_array_list render modes, but your environment render_mode = None.\u001b[0m\n"
     ]
    },
    {
     "ename": "AssertionError",
     "evalue": "",
     "output_type": "error",
     "traceback": [
      "\u001b[0;31m---------------------------------------------------------------------------\u001b[0m",
      "\u001b[0;31mAssertionError\u001b[0m                            Traceback (most recent call last)",
      "\u001b[0;32m/var/folders/4p/q2w97g_n3xv8t1g03z0l35sw0000gn/T/ipykernel_19647/3172469097.py\u001b[0m in \u001b[0;36m<module>\u001b[0;34m\u001b[0m\n\u001b[1;32m      1\u001b[0m \u001b[0;31m#env.metadata['render_fps'] = 4\u001b[0m\u001b[0;34m\u001b[0m\u001b[0;34m\u001b[0m\u001b[0m\n\u001b[0;32m----> 2\u001b[0;31m \u001b[0mplay\u001b[0m\u001b[0;34m.\u001b[0m\u001b[0mplay\u001b[0m\u001b[0;34m(\u001b[0m\u001b[0menv\u001b[0m\u001b[0;34m,\u001b[0m \u001b[0mzoom\u001b[0m\u001b[0;34m=\u001b[0m\u001b[0;36m3\u001b[0m\u001b[0;34m,\u001b[0m \u001b[0mfps\u001b[0m\u001b[0;34m=\u001b[0m\u001b[0;36m4\u001b[0m\u001b[0;34m)\u001b[0m\u001b[0;34m\u001b[0m\u001b[0;34m\u001b[0m\u001b[0m\n\u001b[0m",
      "\u001b[0;32m~/opt/anaconda3/lib/python3.9/site-packages/gym/utils/play.py\u001b[0m in \u001b[0;36mplay\u001b[0;34m(env, transpose, fps, zoom, callback, keys_to_action, seed, noop)\u001b[0m\n\u001b[1;32m    239\u001b[0m         \u001b[0mkey_code_to_action\u001b[0m\u001b[0;34m[\u001b[0m\u001b[0mkey_code\u001b[0m\u001b[0;34m]\u001b[0m \u001b[0;34m=\u001b[0m \u001b[0maction\u001b[0m\u001b[0;34m\u001b[0m\u001b[0;34m\u001b[0m\u001b[0m\n\u001b[1;32m    240\u001b[0m \u001b[0;34m\u001b[0m\u001b[0m\n\u001b[0;32m--> 241\u001b[0;31m     \u001b[0mgame\u001b[0m \u001b[0;34m=\u001b[0m \u001b[0mPlayableGame\u001b[0m\u001b[0;34m(\u001b[0m\u001b[0menv\u001b[0m\u001b[0;34m,\u001b[0m \u001b[0mkey_code_to_action\u001b[0m\u001b[0;34m,\u001b[0m \u001b[0mzoom\u001b[0m\u001b[0;34m)\u001b[0m\u001b[0;34m\u001b[0m\u001b[0;34m\u001b[0m\u001b[0m\n\u001b[0m\u001b[1;32m    242\u001b[0m \u001b[0;34m\u001b[0m\u001b[0m\n\u001b[1;32m    243\u001b[0m     \u001b[0;32mif\u001b[0m \u001b[0mfps\u001b[0m \u001b[0;32mis\u001b[0m \u001b[0;32mNone\u001b[0m\u001b[0;34m:\u001b[0m\u001b[0;34m\u001b[0m\u001b[0;34m\u001b[0m\u001b[0m\n",
      "\u001b[0;32m~/opt/anaconda3/lib/python3.9/site-packages/gym/utils/play.py\u001b[0m in \u001b[0;36m__init__\u001b[0;34m(self, env, keys_to_action, zoom)\u001b[0m\n\u001b[1;32m     59\u001b[0m         \u001b[0mself\u001b[0m\u001b[0;34m.\u001b[0m\u001b[0menv\u001b[0m \u001b[0;34m=\u001b[0m \u001b[0menv\u001b[0m\u001b[0;34m\u001b[0m\u001b[0;34m\u001b[0m\u001b[0m\n\u001b[1;32m     60\u001b[0m         \u001b[0mself\u001b[0m\u001b[0;34m.\u001b[0m\u001b[0mrelevant_keys\u001b[0m \u001b[0;34m=\u001b[0m \u001b[0mself\u001b[0m\u001b[0;34m.\u001b[0m\u001b[0m_get_relevant_keys\u001b[0m\u001b[0;34m(\u001b[0m\u001b[0mkeys_to_action\u001b[0m\u001b[0;34m)\u001b[0m\u001b[0;34m\u001b[0m\u001b[0;34m\u001b[0m\u001b[0m\n\u001b[0;32m---> 61\u001b[0;31m         \u001b[0mself\u001b[0m\u001b[0;34m.\u001b[0m\u001b[0mvideo_size\u001b[0m \u001b[0;34m=\u001b[0m \u001b[0mself\u001b[0m\u001b[0;34m.\u001b[0m\u001b[0m_get_video_size\u001b[0m\u001b[0;34m(\u001b[0m\u001b[0mzoom\u001b[0m\u001b[0;34m)\u001b[0m\u001b[0;34m\u001b[0m\u001b[0;34m\u001b[0m\u001b[0m\n\u001b[0m\u001b[1;32m     62\u001b[0m         \u001b[0mself\u001b[0m\u001b[0;34m.\u001b[0m\u001b[0mscreen\u001b[0m \u001b[0;34m=\u001b[0m \u001b[0mpygame\u001b[0m\u001b[0;34m.\u001b[0m\u001b[0mdisplay\u001b[0m\u001b[0;34m.\u001b[0m\u001b[0mset_mode\u001b[0m\u001b[0;34m(\u001b[0m\u001b[0mself\u001b[0m\u001b[0;34m.\u001b[0m\u001b[0mvideo_size\u001b[0m\u001b[0;34m)\u001b[0m\u001b[0;34m\u001b[0m\u001b[0;34m\u001b[0m\u001b[0m\n\u001b[1;32m     63\u001b[0m         \u001b[0mself\u001b[0m\u001b[0;34m.\u001b[0m\u001b[0mpressed_keys\u001b[0m \u001b[0;34m=\u001b[0m \u001b[0;34m[\u001b[0m\u001b[0;34m]\u001b[0m\u001b[0;34m\u001b[0m\u001b[0;34m\u001b[0m\u001b[0m\n",
      "\u001b[0;32m~/opt/anaconda3/lib/python3.9/site-packages/gym/utils/play.py\u001b[0m in \u001b[0;36m_get_video_size\u001b[0;34m(self, zoom)\u001b[0m\n\u001b[1;32m     85\u001b[0m         \u001b[0;32mif\u001b[0m \u001b[0misinstance\u001b[0m\u001b[0;34m(\u001b[0m\u001b[0mrendered\u001b[0m\u001b[0;34m,\u001b[0m \u001b[0mList\u001b[0m\u001b[0;34m)\u001b[0m\u001b[0;34m:\u001b[0m\u001b[0;34m\u001b[0m\u001b[0;34m\u001b[0m\u001b[0m\n\u001b[1;32m     86\u001b[0m             \u001b[0mrendered\u001b[0m \u001b[0;34m=\u001b[0m \u001b[0mrendered\u001b[0m\u001b[0;34m[\u001b[0m\u001b[0;34m-\u001b[0m\u001b[0;36m1\u001b[0m\u001b[0;34m]\u001b[0m\u001b[0;34m\u001b[0m\u001b[0;34m\u001b[0m\u001b[0m\n\u001b[0;32m---> 87\u001b[0;31m         \u001b[0;32massert\u001b[0m \u001b[0mrendered\u001b[0m \u001b[0;32mis\u001b[0m \u001b[0;32mnot\u001b[0m \u001b[0;32mNone\u001b[0m \u001b[0;32mand\u001b[0m \u001b[0misinstance\u001b[0m\u001b[0;34m(\u001b[0m\u001b[0mrendered\u001b[0m\u001b[0;34m,\u001b[0m \u001b[0mnp\u001b[0m\u001b[0;34m.\u001b[0m\u001b[0mndarray\u001b[0m\u001b[0;34m)\u001b[0m\u001b[0;34m\u001b[0m\u001b[0;34m\u001b[0m\u001b[0m\n\u001b[0m\u001b[1;32m     88\u001b[0m         \u001b[0mvideo_size\u001b[0m \u001b[0;34m=\u001b[0m \u001b[0;34m(\u001b[0m\u001b[0mrendered\u001b[0m\u001b[0;34m.\u001b[0m\u001b[0mshape\u001b[0m\u001b[0;34m[\u001b[0m\u001b[0;36m1\u001b[0m\u001b[0;34m]\u001b[0m\u001b[0;34m,\u001b[0m \u001b[0mrendered\u001b[0m\u001b[0;34m.\u001b[0m\u001b[0mshape\u001b[0m\u001b[0;34m[\u001b[0m\u001b[0;36m0\u001b[0m\u001b[0;34m]\u001b[0m\u001b[0;34m)\u001b[0m\u001b[0;34m\u001b[0m\u001b[0;34m\u001b[0m\u001b[0m\n\u001b[1;32m     89\u001b[0m \u001b[0;34m\u001b[0m\u001b[0m\n",
      "\u001b[0;31mAssertionError\u001b[0m: "
     ]
    }
   ],
   "source": [
    "#env.metadata['render_fps'] = 4\n",
    "play.play(env, zoom=3, fps=4)"
   ]
  },
  {
   "cell_type": "code",
   "execution_count": null,
   "id": "e4480a3a-49e9-439a-9bef-f57ea3938413",
   "metadata": {},
   "outputs": [
    {
     "name": "stdout",
     "output_type": "stream",
     "text": [
      "Found existing installation: Ale 0.8.4\n",
      "Uninstalling Ale-0.8.4:\n",
      "  Would remove:\n",
      "    /Users/tylergasperlin/opt/anaconda3/lib/python3.9/site-packages/Ale-0.8.4.dist-info/*\n",
      "    /Users/tylergasperlin/opt/anaconda3/lib/python3.9/site-packages/ale/*\n",
      "Proceed (Y/n)? "
     ]
    }
   ],
   "source": []
  },
  {
   "cell_type": "code",
   "execution_count": null,
   "id": "b8612b2e-8af1-4819-bd07-d09d342da3cb",
   "metadata": {},
   "outputs": [],
   "source": []
  },
  {
   "cell_type": "code",
   "execution_count": 3,
   "id": "fce19fb5-f5f8-4758-8169-56005a6d5914",
   "metadata": {},
   "outputs": [
    {
     "name": "stderr",
     "output_type": "stream",
     "text": [
      "A.L.E: Arcade Learning Environment (version 0.8.0+919230b)\n",
      "[Powered by Stella]\n",
      "objc[20563]: Class SDLApplication is implemented in both /Users/tylergasperlin/opt/anaconda3/lib/python3.9/site-packages/pygame/.dylibs/libSDL2-2.0.0.dylib (0x11744cdd8) and /Users/tylergasperlin/opt/anaconda3/lib/python3.9/site-packages/ale_py/libSDL2-2.0.dylib (0x126f16088). One of the two will be used. Which one is undefined.\n",
      "objc[20563]: Class SDLAppDelegate is implemented in both /Users/tylergasperlin/opt/anaconda3/lib/python3.9/site-packages/pygame/.dylibs/libSDL2-2.0.0.dylib (0x11744ce28) and /Users/tylergasperlin/opt/anaconda3/lib/python3.9/site-packages/ale_py/libSDL2-2.0.dylib (0x126f160d8). One of the two will be used. Which one is undefined.\n",
      "objc[20563]: Class SDLTranslatorResponder is implemented in both /Users/tylergasperlin/opt/anaconda3/lib/python3.9/site-packages/pygame/.dylibs/libSDL2-2.0.0.dylib (0x11744cea0) and /Users/tylergasperlin/opt/anaconda3/lib/python3.9/site-packages/ale_py/libSDL2-2.0.dylib (0x126f16150). One of the two will be used. Which one is undefined.\n",
      "objc[20563]: Class SDLMessageBoxPresenter is implemented in both /Users/tylergasperlin/opt/anaconda3/lib/python3.9/site-packages/pygame/.dylibs/libSDL2-2.0.0.dylib (0x11744cec8) and /Users/tylergasperlin/opt/anaconda3/lib/python3.9/site-packages/ale_py/libSDL2-2.0.dylib (0x126f16178). One of the two will be used. Which one is undefined.\n",
      "objc[20563]: Class SDL_cocoametalview is implemented in both /Users/tylergasperlin/opt/anaconda3/lib/python3.9/site-packages/pygame/.dylibs/libSDL2-2.0.0.dylib (0x11744cf18) and /Users/tylergasperlin/opt/anaconda3/lib/python3.9/site-packages/ale_py/libSDL2-2.0.dylib (0x126f161c8). One of the two will be used. Which one is undefined.\n",
      "objc[20563]: Class SDLOpenGLContext is implemented in both /Users/tylergasperlin/opt/anaconda3/lib/python3.9/site-packages/pygame/.dylibs/libSDL2-2.0.0.dylib (0x11744cf68) and /Users/tylergasperlin/opt/anaconda3/lib/python3.9/site-packages/ale_py/libSDL2-2.0.dylib (0x126f16218). One of the two will be used. Which one is undefined.\n",
      "objc[20563]: Class SDLWindow is implemented in both /Users/tylergasperlin/opt/anaconda3/lib/python3.9/site-packages/pygame/.dylibs/libSDL2-2.0.0.dylib (0x11744cfb8) and /Users/tylergasperlin/opt/anaconda3/lib/python3.9/site-packages/ale_py/libSDL2-2.0.dylib (0x126f16268). One of the two will be used. Which one is undefined.\n",
      "objc[20563]: Class Cocoa_WindowListener is implemented in both /Users/tylergasperlin/opt/anaconda3/lib/python3.9/site-packages/pygame/.dylibs/libSDL2-2.0.0.dylib (0x11744cfe0) and /Users/tylergasperlin/opt/anaconda3/lib/python3.9/site-packages/ale_py/libSDL2-2.0.dylib (0x126f16290). One of the two will be used. Which one is undefined.\n",
      "objc[20563]: Class SDLView is implemented in both /Users/tylergasperlin/opt/anaconda3/lib/python3.9/site-packages/pygame/.dylibs/libSDL2-2.0.0.dylib (0x11744d058) and /Users/tylergasperlin/opt/anaconda3/lib/python3.9/site-packages/ale_py/libSDL2-2.0.dylib (0x126f16308). One of the two will be used. Which one is undefined.\n",
      "objc[20563]: Class METAL_RenderData is implemented in both /Users/tylergasperlin/opt/anaconda3/lib/python3.9/site-packages/pygame/.dylibs/libSDL2-2.0.0.dylib (0x11744d0a8) and /Users/tylergasperlin/opt/anaconda3/lib/python3.9/site-packages/ale_py/libSDL2-2.0.dylib (0x126f16358). One of the two will be used. Which one is undefined.\n",
      "objc[20563]: Class METAL_TextureData is implemented in both /Users/tylergasperlin/opt/anaconda3/lib/python3.9/site-packages/pygame/.dylibs/libSDL2-2.0.0.dylib (0x11744d0f8) and /Users/tylergasperlin/opt/anaconda3/lib/python3.9/site-packages/ale_py/libSDL2-2.0.dylib (0x126f163a8). One of the two will be used. Which one is undefined.\n"
     ]
    }
   ],
   "source": []
  },
  {
   "cell_type": "code",
   "execution_count": 23,
   "id": "40682bf8-4997-4ff4-a9bf-6886966d5333",
   "metadata": {},
   "outputs": [
    {
     "name": "stdout",
     "output_type": "stream",
     "text": [
      "zsh:1: no matches found: gymnasium[all]\n",
      "Note: you may need to restart the kernel to use updated packages.\n"
     ]
    }
   ],
   "source": []
  },
  {
   "cell_type": "code",
   "execution_count": 25,
   "id": "ed6ef17f-b0cc-4184-9d22-de129bbc8040",
   "metadata": {},
   "outputs": [
    {
     "name": "stdout",
     "output_type": "stream",
     "text": [
      "Requirement already satisfied: gymnasium[all] in /Users/tylergasperlin/opt/anaconda3/lib/python3.9/site-packages (0.27.0)\n",
      "Requirement already satisfied: gymnasium-notices>=0.0.1 in /Users/tylergasperlin/opt/anaconda3/lib/python3.9/site-packages (from gymnasium[all]) (0.0.1)\n",
      "Requirement already satisfied: jax-jumpy>=0.2.0 in /Users/tylergasperlin/opt/anaconda3/lib/python3.9/site-packages (from gymnasium[all]) (0.2.0)\n",
      "Requirement already satisfied: numpy>=1.21.0 in /Users/tylergasperlin/opt/anaconda3/lib/python3.9/site-packages (from gymnasium[all]) (1.21.5)\n",
      "Requirement already satisfied: cloudpickle>=1.2.0 in /Users/tylergasperlin/opt/anaconda3/lib/python3.9/site-packages (from gymnasium[all]) (2.0.0)\n",
      "Requirement already satisfied: importlib-metadata>=4.8.0 in /Users/tylergasperlin/opt/anaconda3/lib/python3.9/site-packages (from gymnasium[all]) (4.11.3)\n",
      "Requirement already satisfied: typing-extensions>=4.3.0 in /Users/tylergasperlin/opt/anaconda3/lib/python3.9/site-packages (from gymnasium[all]) (4.3.0)\n",
      "Requirement already satisfied: shimmy<1.0,>=0.1.0 in /Users/tylergasperlin/opt/anaconda3/lib/python3.9/site-packages (from gymnasium[all]) (0.2.0)\n",
      "Requirement already satisfied: lz4>=3.1.0 in /Users/tylergasperlin/opt/anaconda3/lib/python3.9/site-packages (from gymnasium[all]) (3.1.3)\n",
      "Requirement already satisfied: matplotlib>=3.0 in /Users/tylergasperlin/opt/anaconda3/lib/python3.9/site-packages (from gymnasium[all]) (3.5.2)\n",
      "Collecting jaxlib==0.3.24\n",
      "  Downloading jaxlib-0.3.24-cp39-cp39-macosx_10_14_x86_64.whl (65.8 MB)\n",
      "\u001b[2K     \u001b[90m━━━━━━━━━━━━━━━━━━━━━━━━━━━━━━━━━━━━━━━━\u001b[0m \u001b[32m65.8/65.8 MB\u001b[0m \u001b[31m17.2 MB/s\u001b[0m eta \u001b[36m0:00:00\u001b[0m00:01\u001b[0m00:01\u001b[0m\n",
      "\u001b[?25hCollecting mujoco-py<2.2,>=2.1\n",
      "  Downloading mujoco_py-2.1.2.14-py3-none-any.whl (2.4 MB)\n",
      "\u001b[2K     \u001b[90m━━━━━━━━━━━━━━━━━━━━━━━━━━━━━━━━━━━━━━━━\u001b[0m \u001b[32m2.4/2.4 MB\u001b[0m \u001b[31m30.8 MB/s\u001b[0m eta \u001b[36m0:00:00\u001b[0m00:01\u001b[0m00:01\u001b[0m\n",
      "\u001b[?25hRequirement already satisfied: imageio>=2.14.1 in /Users/tylergasperlin/opt/anaconda3/lib/python3.9/site-packages (from gymnasium[all]) (2.19.3)\n",
      "Collecting box2d-py==2.3.5\n",
      "  Downloading box2d-py-2.3.5.tar.gz (374 kB)\n",
      "\u001b[2K     \u001b[90m━━━━━━━━━━━━━━━━━━━━━━━━━━━━━━━━━━━━━━\u001b[0m \u001b[32m374.4/374.4 kB\u001b[0m \u001b[31m12.3 MB/s\u001b[0m eta \u001b[36m0:00:00\u001b[0m\n",
      "\u001b[?25h  Preparing metadata (setup.py) ... \u001b[?25ldone\n",
      "\u001b[?25hRequirement already satisfied: pygame==2.1.3.dev8 in /Users/tylergasperlin/opt/anaconda3/lib/python3.9/site-packages (from gymnasium[all]) (2.1.3.dev8)\n",
      "Collecting torch>=1.0.0\n",
      "  Downloading torch-1.13.1-cp39-none-macosx_10_9_x86_64.whl (135.3 MB)\n",
      "\u001b[2K     \u001b[90m━━━━━━━━━━━━━━━━━━━━━━━━━━━━━━━━━━━━━━\u001b[0m \u001b[32m135.3/135.3 MB\u001b[0m \u001b[31m14.4 MB/s\u001b[0m eta \u001b[36m0:00:00\u001b[0m00:01\u001b[0m00:01\u001b[0m\n",
      "\u001b[?25hCollecting swig==4.*\n",
      "  Downloading swig-4.1.1-py2.py3-none-macosx_10_9_x86_64.whl (1.7 MB)\n",
      "\u001b[2K     \u001b[90m━━━━━━━━━━━━━━━━━━━━━━━━━━━━━━━━━━━━━━━━\u001b[0m \u001b[32m1.7/1.7 MB\u001b[0m \u001b[31m26.6 MB/s\u001b[0m eta \u001b[36m0:00:00\u001b[0m00:01\u001b[0m\n",
      "\u001b[?25hCollecting opencv-python>=3.0\n",
      "  Downloading opencv_python-4.7.0.68-cp37-abi3-macosx_10_13_x86_64.whl (51.7 MB)\n",
      "\u001b[2K     \u001b[90m━━━━━━━━━━━━━━━━━━━━━━━━━━━━━━━━━━━━━━━━\u001b[0m \u001b[32m51.7/51.7 MB\u001b[0m \u001b[31m26.9 MB/s\u001b[0m eta \u001b[36m0:00:00\u001b[0m00:01\u001b[0m00:01\u001b[0m\n",
      "\u001b[?25hCollecting mujoco>=2.3.1.post1\n",
      "  Downloading mujoco-2.3.1.post1-cp39-cp39-macosx_10_12_x86_64.whl (3.8 MB)\n",
      "\u001b[2K     \u001b[90m━━━━━━━━━━━━━━━━━━━━━━━━━━━━━━━━━━━━━━━━\u001b[0m \u001b[32m3.8/3.8 MB\u001b[0m \u001b[31m25.8 MB/s\u001b[0m eta \u001b[36m0:00:00\u001b[0m00:01\u001b[0m00:01\u001b[0m\n",
      "\u001b[?25hCollecting jax==0.3.24\n",
      "  Downloading jax-0.3.24.tar.gz (1.1 MB)\n",
      "\u001b[2K     \u001b[90m━━━━━━━━━━━━━━━━━━━━━━━━━━━━━━━━━━━━━━━━\u001b[0m \u001b[32m1.1/1.1 MB\u001b[0m \u001b[31m21.6 MB/s\u001b[0m eta \u001b[36m0:00:00\u001b[0m00:01\u001b[0m\n",
      "\u001b[?25h  Preparing metadata (setup.py) ... \u001b[?25ldone\n",
      "\u001b[?25hCollecting moviepy>=1.0.0\n",
      "  Downloading moviepy-1.0.3.tar.gz (388 kB)\n",
      "\u001b[2K     \u001b[90m━━━━━━━━━━━━━━━━━━━━━━━━━━━━━━━━━━━━━━\u001b[0m \u001b[32m388.3/388.3 kB\u001b[0m \u001b[31m12.3 MB/s\u001b[0m eta \u001b[36m0:00:00\u001b[0m\n",
      "\u001b[?25h  Preparing metadata (setup.py) ... \u001b[?25ldone\n",
      "\u001b[?25hCollecting opt_einsum\n",
      "  Downloading opt_einsum-3.3.0-py3-none-any.whl (65 kB)\n",
      "\u001b[2K     \u001b[90m━━━━━━━━━━━━━━━━━━━━━━━━━━━━━━━━━━━━━━━━\u001b[0m \u001b[32m65.5/65.5 kB\u001b[0m \u001b[31m2.2 MB/s\u001b[0m eta \u001b[36m0:00:00\u001b[0m\n",
      "\u001b[?25hRequirement already satisfied: scipy>=1.5 in /Users/tylergasperlin/opt/anaconda3/lib/python3.9/site-packages (from jax==0.3.24->gymnasium[all]) (1.9.1)\n",
      "Requirement already satisfied: pillow>=8.3.2 in /Users/tylergasperlin/opt/anaconda3/lib/python3.9/site-packages (from imageio>=2.14.1->gymnasium[all]) (9.2.0)\n",
      "Requirement already satisfied: zipp>=0.5 in /Users/tylergasperlin/opt/anaconda3/lib/python3.9/site-packages (from importlib-metadata>=4.8.0->gymnasium[all]) (3.8.0)\n",
      "Requirement already satisfied: kiwisolver>=1.0.1 in /Users/tylergasperlin/opt/anaconda3/lib/python3.9/site-packages (from matplotlib>=3.0->gymnasium[all]) (1.4.2)\n",
      "Requirement already satisfied: python-dateutil>=2.7 in /Users/tylergasperlin/opt/anaconda3/lib/python3.9/site-packages (from matplotlib>=3.0->gymnasium[all]) (2.8.2)\n",
      "Requirement already satisfied: packaging>=20.0 in /Users/tylergasperlin/opt/anaconda3/lib/python3.9/site-packages (from matplotlib>=3.0->gymnasium[all]) (21.3)\n",
      "Requirement already satisfied: fonttools>=4.22.0 in /Users/tylergasperlin/opt/anaconda3/lib/python3.9/site-packages (from matplotlib>=3.0->gymnasium[all]) (4.25.0)\n",
      "Requirement already satisfied: cycler>=0.10 in /Users/tylergasperlin/opt/anaconda3/lib/python3.9/site-packages (from matplotlib>=3.0->gymnasium[all]) (0.11.0)\n",
      "Requirement already satisfied: pyparsing>=2.2.1 in /Users/tylergasperlin/opt/anaconda3/lib/python3.9/site-packages (from matplotlib>=3.0->gymnasium[all]) (3.0.9)\n",
      "Collecting decorator<5.0,>=4.0.2\n",
      "  Downloading decorator-4.4.2-py2.py3-none-any.whl (9.2 kB)\n",
      "Requirement already satisfied: tqdm<5.0,>=4.11.2 in /Users/tylergasperlin/opt/anaconda3/lib/python3.9/site-packages (from moviepy>=1.0.0->gymnasium[all]) (4.64.1)\n",
      "Requirement already satisfied: requests<3.0,>=2.8.1 in /Users/tylergasperlin/opt/anaconda3/lib/python3.9/site-packages (from moviepy>=1.0.0->gymnasium[all]) (2.28.1)\n",
      "Collecting proglog<=1.0.0\n",
      "  Downloading proglog-0.1.10-py3-none-any.whl (6.1 kB)\n",
      "Collecting imageio_ffmpeg>=0.2.0\n",
      "  Downloading imageio_ffmpeg-0.4.8-py3-none-macosx_10_9_intel.macosx_10_9_x86_64.macosx_10_10_intel.macosx_10_10_x86_64.whl (22.5 MB)\n",
      "\u001b[2K     \u001b[90m━━━━━━━━━━━━━━━━━━━━━━━━━━━━━━━━━━━━━━━━\u001b[0m \u001b[32m22.5/22.5 MB\u001b[0m \u001b[31m22.3 MB/s\u001b[0m eta \u001b[36m0:00:00\u001b[0m00:01\u001b[0m00:01\u001b[0m\n",
      "\u001b[?25hCollecting pyopengl\n",
      "  Downloading PyOpenGL-3.1.6-py3-none-any.whl (2.4 MB)\n",
      "\u001b[2K     \u001b[90m━━━━━━━━━━━━━━━━━━━━━━━━━━━━━━━━━━━━━━━━\u001b[0m \u001b[32m2.4/2.4 MB\u001b[0m \u001b[31m27.5 MB/s\u001b[0m eta \u001b[36m0:00:00\u001b[0m00:01\u001b[0m00:01\u001b[0m\n",
      "\u001b[?25hCollecting glfw\n",
      "  Downloading glfw-2.5.5-py2.py27.py3.py30.py31.py32.py33.py34.py35.py36.py37.py38-none-macosx_10_6_intel.whl (96 kB)\n",
      "\u001b[2K     \u001b[90m━━━━━━━━━━━━━━━━━━━━━━━━━━━━━━━━━━━━━━━━\u001b[0m \u001b[32m96.2/96.2 kB\u001b[0m \u001b[31m3.3 MB/s\u001b[0m eta \u001b[36m0:00:00\u001b[0m\n",
      "\u001b[?25hCollecting absl-py\n",
      "  Downloading absl_py-1.4.0-py3-none-any.whl (126 kB)\n",
      "\u001b[2K     \u001b[90m━━━━━━━━━━━━━━━━━━━━━━━━━━━━━━━━━━━━━━━\u001b[0m \u001b[32m126.5/126.5 kB\u001b[0m \u001b[31m5.1 MB/s\u001b[0m eta \u001b[36m0:00:00\u001b[0m\n",
      "\u001b[?25hRequirement already satisfied: Cython>=0.27.2 in /Users/tylergasperlin/opt/anaconda3/lib/python3.9/site-packages (from mujoco-py<2.2,>=2.1->gymnasium[all]) (0.29.32)\n",
      "Collecting fasteners~=0.15\n",
      "  Downloading fasteners-0.18-py3-none-any.whl (18 kB)\n",
      "Requirement already satisfied: cffi>=1.10 in /Users/tylergasperlin/opt/anaconda3/lib/python3.9/site-packages (from mujoco-py<2.2,>=2.1->gymnasium[all]) (1.15.1)\n",
      "Requirement already satisfied: ale-py~=0.8.0 in /Users/tylergasperlin/opt/anaconda3/lib/python3.9/site-packages (from shimmy<1.0,>=0.1.0->gymnasium[all]) (0.8.0)\n",
      "Requirement already satisfied: importlib-resources in /Users/tylergasperlin/opt/anaconda3/lib/python3.9/site-packages (from ale-py~=0.8.0->shimmy<1.0,>=0.1.0->gymnasium[all]) (5.10.2)\n",
      "Requirement already satisfied: pycparser in /Users/tylergasperlin/opt/anaconda3/lib/python3.9/site-packages (from cffi>=1.10->mujoco-py<2.2,>=2.1->gymnasium[all]) (2.21)\n",
      "Requirement already satisfied: six>=1.5 in /Users/tylergasperlin/opt/anaconda3/lib/python3.9/site-packages (from python-dateutil>=2.7->matplotlib>=3.0->gymnasium[all]) (1.16.0)\n",
      "Requirement already satisfied: idna<4,>=2.5 in /Users/tylergasperlin/opt/anaconda3/lib/python3.9/site-packages (from requests<3.0,>=2.8.1->moviepy>=1.0.0->gymnasium[all]) (3.3)\n",
      "Requirement already satisfied: certifi>=2017.4.17 in /Users/tylergasperlin/opt/anaconda3/lib/python3.9/site-packages (from requests<3.0,>=2.8.1->moviepy>=1.0.0->gymnasium[all]) (2022.9.24)\n",
      "Requirement already satisfied: urllib3<1.27,>=1.21.1 in /Users/tylergasperlin/opt/anaconda3/lib/python3.9/site-packages (from requests<3.0,>=2.8.1->moviepy>=1.0.0->gymnasium[all]) (1.26.11)\n",
      "Requirement already satisfied: charset-normalizer<3,>=2 in /Users/tylergasperlin/opt/anaconda3/lib/python3.9/site-packages (from requests<3.0,>=2.8.1->moviepy>=1.0.0->gymnasium[all]) (2.0.4)\n",
      "Building wheels for collected packages: box2d-py, jax, moviepy\n",
      "  Building wheel for box2d-py (setup.py) ... \u001b[?25lerror\n",
      "  \u001b[1;31merror\u001b[0m: \u001b[1msubprocess-exited-with-error\u001b[0m\n",
      "  \n",
      "  \u001b[31m×\u001b[0m \u001b[32mpython setup.py bdist_wheel\u001b[0m did not run successfully.\n",
      "  \u001b[31m│\u001b[0m exit code: \u001b[1;36m1\u001b[0m\n",
      "  \u001b[31m╰─>\u001b[0m \u001b[31m[16 lines of output]\u001b[0m\n",
      "  \u001b[31m   \u001b[0m Using setuptools (version 63.4.1).\n",
      "  \u001b[31m   \u001b[0m running bdist_wheel\n",
      "  \u001b[31m   \u001b[0m running build\n",
      "  \u001b[31m   \u001b[0m running build_py\n",
      "  \u001b[31m   \u001b[0m creating build\n",
      "  \u001b[31m   \u001b[0m creating build/lib.macosx-10.9-x86_64-cpython-39\n",
      "  \u001b[31m   \u001b[0m creating build/lib.macosx-10.9-x86_64-cpython-39/Box2D\n",
      "  \u001b[31m   \u001b[0m copying library/Box2D/Box2D.py -> build/lib.macosx-10.9-x86_64-cpython-39/Box2D\n",
      "  \u001b[31m   \u001b[0m copying library/Box2D/__init__.py -> build/lib.macosx-10.9-x86_64-cpython-39/Box2D\n",
      "  \u001b[31m   \u001b[0m creating build/lib.macosx-10.9-x86_64-cpython-39/Box2D/b2\n",
      "  \u001b[31m   \u001b[0m copying library/Box2D/b2/__init__.py -> build/lib.macosx-10.9-x86_64-cpython-39/Box2D/b2\n",
      "  \u001b[31m   \u001b[0m running build_ext\n",
      "  \u001b[31m   \u001b[0m building 'Box2D._Box2D' extension\n",
      "  \u001b[31m   \u001b[0m swigging Box2D/Box2D.i to Box2D/Box2D_wrap.cpp\n",
      "  \u001b[31m   \u001b[0m swig -python -c++ -IBox2D -small -O -includeall -ignoremissing -w201 -globals b2Globals -outdir library/Box2D -keyword -w511 -D_SWIG_KWARGS -o Box2D/Box2D_wrap.cpp Box2D/Box2D.i\n",
      "  \u001b[31m   \u001b[0m error: command 'swig' failed: No such file or directory\n",
      "  \u001b[31m   \u001b[0m \u001b[31m[end of output]\u001b[0m\n",
      "  \n",
      "  \u001b[1;35mnote\u001b[0m: This error originates from a subprocess, and is likely not a problem with pip.\n",
      "\u001b[31m  ERROR: Failed building wheel for box2d-py\u001b[0m\u001b[31m\n",
      "\u001b[0m\u001b[?25h  Running setup.py clean for box2d-py\n",
      "  Building wheel for jax (setup.py) ... \u001b[?25ldone\n",
      "\u001b[?25h  Created wheel for jax: filename=jax-0.3.24-py3-none-any.whl size=1297411 sha256=8b68b4d92e725c9bcd6384d99981536c469184f08569872e91e0c939f11c9dce\n",
      "  Stored in directory: /Users/tylergasperlin/Library/Caches/pip/wheels/13/d4/90/1904bbdf0ee77093daa3bf6a4939e5ddc266402262423e29d1\n",
      "  Building wheel for moviepy (setup.py) ... \u001b[?25ldone\n",
      "\u001b[?25h  Created wheel for moviepy: filename=moviepy-1.0.3-py3-none-any.whl size=110728 sha256=85cd808db992ab72efe79ed1959c74cf7f4d66b5d337b4b68ed3d60548ebbb49\n",
      "  Stored in directory: /Users/tylergasperlin/Library/Caches/pip/wheels/29/15/e4/4f790bec6acd51a00b67e8ee1394f0bc6e0135c315f8ff399a\n",
      "Successfully built jax moviepy\n",
      "Failed to build box2d-py\n",
      "Installing collected packages: swig, pyopengl, glfw, box2d-py, torch, proglog, opt_einsum, opencv-python, imageio_ffmpeg, fasteners, decorator, absl-py, mujoco-py, mujoco, moviepy, jaxlib, jax\n",
      "  Running setup.py install for box2d-py ... \u001b[?25ldone\n",
      "\u001b[33m  DEPRECATION: box2d-py was installed using the legacy 'setup.py install' method, because a wheel could not be built for it. A possible replacement is to fix the wheel build issue reported above. Discussion can be found at https://github.com/pypa/pip/issues/8368\u001b[0m\u001b[33m\n",
      "\u001b[0m\u001b[?25h  Attempting uninstall: decorator\n",
      "    Found existing installation: decorator 5.1.1\n",
      "    Uninstalling decorator-5.1.1:\n",
      "      Successfully uninstalled decorator-5.1.1\n",
      "Successfully installed absl-py-1.4.0 box2d-py-2.3.5 decorator-4.4.2 fasteners-0.18 glfw-2.5.5 imageio_ffmpeg-0.4.8 jax-0.3.24 jaxlib-0.3.24 moviepy-1.0.3 mujoco-2.3.1.post1 mujoco-py-2.1.2.14 opencv-python-4.7.0.68 opt_einsum-3.3.0 proglog-0.1.10 pyopengl-3.1.6 swig-4.1.1 torch-1.13.1\n",
      "Note: you may need to restart the kernel to use updated packages.\n"
     ]
    }
   ],
   "source": []
  },
  {
   "cell_type": "code",
   "execution_count": null,
   "id": "5e573ba4-56c3-47c0-85de-1f00d75f6326",
   "metadata": {},
   "outputs": [],
   "source": []
  }
 ],
 "metadata": {
  "kernelspec": {
   "display_name": "Python 3 (ipykernel)",
   "language": "python",
   "name": "python3"
  },
  "language_info": {
   "codemirror_mode": {
    "name": "ipython",
    "version": 3
   },
   "file_extension": ".py",
   "mimetype": "text/x-python",
   "name": "python",
   "nbconvert_exporter": "python",
   "pygments_lexer": "ipython3",
   "version": "3.9.13"
  },
  "vscode": {
   "interpreter": {
    "hash": "6d7b226c8dd3a28d7a9be097f0d83abd5454c6f9260f8896d3f9a67e7dc7c9ca"
   }
  }
 },
 "nbformat": 4,
 "nbformat_minor": 5
}
