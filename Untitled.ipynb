{
 "cells": [
  {
   "cell_type": "code",
   "execution_count": 1,
   "id": "8bf2a1ab-dd9f-40d5-83b4-97160753301e",
   "metadata": {},
   "outputs": [
    {
     "data": {
      "text/plain": [
       "25"
      ]
     },
     "execution_count": 1,
     "metadata": {},
     "output_type": "execute_result"
    }
   ],
   "source": [
    "g =2\n",
    "ga =23\n",
    "ga + g"
   ]
  },
  {
   "cell_type": "code",
   "execution_count": null,
   "id": "9b74c1c9-c5c5-4417-b7e9-b2f852b4169f",
   "metadata": {},
   "outputs": [],
   "source": []
  }
 ],
 "metadata": {
  "kernelspec": {
   "display_name": "Python 3 (ipykernel)",
   "language": "python",
   "name": "python3"
  },
  "language_info": {
   "codemirror_mode": {
    "name": "ipython",
    "version": 3
   },
   "file_extension": ".py",
   "mimetype": "text/x-python",
   "name": "python",
   "nbconvert_exporter": "python",
   "pygments_lexer": "ipython3",
   "version": "3.9.13"
  }
 },
 "nbformat": 4,
 "nbformat_minor": 5
}
